{
 "cells": [
  {
   "cell_type": "markdown",
   "id": "8c369b02",
   "metadata": {
    "papermill": {
     "duration": 0.021919,
     "end_time": "2022-09-11T10:58:58.870533",
     "exception": false,
     "start_time": "2022-09-11T10:58:58.848614",
     "status": "completed"
    },
    "tags": []
   },
   "source": [
    "# Import the main libiraries"
   ]
  },
  {
   "cell_type": "code",
   "execution_count": 1,
   "id": "e8e9e388",
   "metadata": {
    "execution": {
     "iopub.execute_input": "2022-09-11T10:58:58.911655Z",
     "iopub.status.busy": "2022-09-11T10:58:58.911126Z",
     "iopub.status.idle": "2022-09-11T10:59:00.391991Z",
     "shell.execute_reply": "2022-09-11T10:59:00.390679Z"
    },
    "papermill": {
     "duration": 1.505409,
     "end_time": "2022-09-11T10:59:00.395155",
     "exception": false,
     "start_time": "2022-09-11T10:58:58.889746",
     "status": "completed"
    },
    "tags": []
   },
   "outputs": [],
   "source": [
    "# Most important\n",
    "import numpy as np\n",
    "import pandas as pd \n",
    "import matplotlib.pyplot as plt\n",
    "import seaborn as sns\n",
    "from sklearn import preprocessing\n",
    "from sklearn.preprocessing import LabelEncoder\n",
    "import missingno as msno\n",
    "import os"
   ]
  },
  {
   "cell_type": "markdown",
   "id": "4ca77b07",
   "metadata": {
    "papermill": {
     "duration": 0.019443,
     "end_time": "2022-09-11T10:59:00.434065",
     "exception": false,
     "start_time": "2022-09-11T10:59:00.414622",
     "status": "completed"
    },
    "tags": []
   },
   "source": [
    "# Load the DataSet"
   ]
  },
  {
   "cell_type": "code",
   "execution_count": 2,
   "id": "0268e3ad",
   "metadata": {
    "execution": {
     "iopub.execute_input": "2022-09-11T10:59:00.475310Z",
     "iopub.status.busy": "2022-09-11T10:59:00.474802Z",
     "iopub.status.idle": "2022-09-11T10:59:00.503940Z",
     "shell.execute_reply": "2022-09-11T10:59:00.502025Z"
    },
    "papermill": {
     "duration": 0.053606,
     "end_time": "2022-09-11T10:59:00.507112",
     "exception": false,
     "start_time": "2022-09-11T10:59:00.453506",
     "status": "completed"
    },
    "tags": []
   },
   "outputs": [],
   "source": [
    "## Read the Csv file\n",
    "data = pd.read_csv(\"../input/car-price-prediction/CarPrice_Assignment.csv\")"
   ]
  },
  {
   "cell_type": "code",
   "execution_count": 3,
   "id": "0dc3fe3f",
   "metadata": {
    "execution": {
     "iopub.execute_input": "2022-09-11T10:59:00.548021Z",
     "iopub.status.busy": "2022-09-11T10:59:00.547561Z",
     "iopub.status.idle": "2022-09-11T10:59:00.554184Z",
     "shell.execute_reply": "2022-09-11T10:59:00.552885Z"
    },
    "papermill": {
     "duration": 0.030012,
     "end_time": "2022-09-11T10:59:00.556729",
     "exception": false,
     "start_time": "2022-09-11T10:59:00.526717",
     "status": "completed"
    },
    "tags": []
   },
   "outputs": [],
   "source": [
    "df_cars=data.copy()"
   ]
  },
  {
   "cell_type": "markdown",
   "id": "3e5d02f0",
   "metadata": {
    "papermill": {
     "duration": 0.018992,
     "end_time": "2022-09-11T10:59:00.595891",
     "exception": false,
     "start_time": "2022-09-11T10:59:00.576899",
     "status": "completed"
    },
    "tags": []
   },
   "source": [
    "# inspect the Data"
   ]
  },
  {
   "cell_type": "code",
   "execution_count": 4,
   "id": "9e4566eb",
   "metadata": {
    "execution": {
     "iopub.execute_input": "2022-09-11T10:59:00.637462Z",
     "iopub.status.busy": "2022-09-11T10:59:00.636730Z",
     "iopub.status.idle": "2022-09-11T10:59:00.677884Z",
     "shell.execute_reply": "2022-09-11T10:59:00.676992Z"
    },
    "papermill": {
     "duration": 0.065904,
     "end_time": "2022-09-11T10:59:00.681491",
     "exception": false,
     "start_time": "2022-09-11T10:59:00.615587",
     "status": "completed"
    },
    "tags": []
   },
   "outputs": [
    {
     "data": {
      "text/html": [
       "<div>\n",
       "<style scoped>\n",
       "    .dataframe tbody tr th:only-of-type {\n",
       "        vertical-align: middle;\n",
       "    }\n",
       "\n",
       "    .dataframe tbody tr th {\n",
       "        vertical-align: top;\n",
       "    }\n",
       "\n",
       "    .dataframe thead th {\n",
       "        text-align: right;\n",
       "    }\n",
       "</style>\n",
       "<table border=\"1\" class=\"dataframe\">\n",
       "  <thead>\n",
       "    <tr style=\"text-align: right;\">\n",
       "      <th></th>\n",
       "      <th>column</th>\n",
       "      <th>dtypes</th>\n",
       "      <th>nunique</th>\n",
       "      <th>sum_null</th>\n",
       "    </tr>\n",
       "  </thead>\n",
       "  <tbody>\n",
       "    <tr>\n",
       "      <th>0</th>\n",
       "      <td>car_ID</td>\n",
       "      <td>int64</td>\n",
       "      <td>205</td>\n",
       "      <td>0</td>\n",
       "    </tr>\n",
       "    <tr>\n",
       "      <th>1</th>\n",
       "      <td>symboling</td>\n",
       "      <td>int64</td>\n",
       "      <td>6</td>\n",
       "      <td>0</td>\n",
       "    </tr>\n",
       "    <tr>\n",
       "      <th>2</th>\n",
       "      <td>CarName</td>\n",
       "      <td>object</td>\n",
       "      <td>147</td>\n",
       "      <td>0</td>\n",
       "    </tr>\n",
       "    <tr>\n",
       "      <th>3</th>\n",
       "      <td>fueltype</td>\n",
       "      <td>object</td>\n",
       "      <td>2</td>\n",
       "      <td>0</td>\n",
       "    </tr>\n",
       "    <tr>\n",
       "      <th>4</th>\n",
       "      <td>aspiration</td>\n",
       "      <td>object</td>\n",
       "      <td>2</td>\n",
       "      <td>0</td>\n",
       "    </tr>\n",
       "    <tr>\n",
       "      <th>5</th>\n",
       "      <td>doornumber</td>\n",
       "      <td>object</td>\n",
       "      <td>2</td>\n",
       "      <td>0</td>\n",
       "    </tr>\n",
       "    <tr>\n",
       "      <th>6</th>\n",
       "      <td>carbody</td>\n",
       "      <td>object</td>\n",
       "      <td>5</td>\n",
       "      <td>0</td>\n",
       "    </tr>\n",
       "    <tr>\n",
       "      <th>7</th>\n",
       "      <td>drivewheel</td>\n",
       "      <td>object</td>\n",
       "      <td>3</td>\n",
       "      <td>0</td>\n",
       "    </tr>\n",
       "    <tr>\n",
       "      <th>8</th>\n",
       "      <td>enginelocation</td>\n",
       "      <td>object</td>\n",
       "      <td>2</td>\n",
       "      <td>0</td>\n",
       "    </tr>\n",
       "    <tr>\n",
       "      <th>9</th>\n",
       "      <td>wheelbase</td>\n",
       "      <td>float64</td>\n",
       "      <td>53</td>\n",
       "      <td>0</td>\n",
       "    </tr>\n",
       "    <tr>\n",
       "      <th>10</th>\n",
       "      <td>carlength</td>\n",
       "      <td>float64</td>\n",
       "      <td>75</td>\n",
       "      <td>0</td>\n",
       "    </tr>\n",
       "    <tr>\n",
       "      <th>11</th>\n",
       "      <td>carwidth</td>\n",
       "      <td>float64</td>\n",
       "      <td>44</td>\n",
       "      <td>0</td>\n",
       "    </tr>\n",
       "    <tr>\n",
       "      <th>12</th>\n",
       "      <td>carheight</td>\n",
       "      <td>float64</td>\n",
       "      <td>49</td>\n",
       "      <td>0</td>\n",
       "    </tr>\n",
       "    <tr>\n",
       "      <th>13</th>\n",
       "      <td>curbweight</td>\n",
       "      <td>int64</td>\n",
       "      <td>171</td>\n",
       "      <td>0</td>\n",
       "    </tr>\n",
       "    <tr>\n",
       "      <th>14</th>\n",
       "      <td>enginetype</td>\n",
       "      <td>object</td>\n",
       "      <td>7</td>\n",
       "      <td>0</td>\n",
       "    </tr>\n",
       "    <tr>\n",
       "      <th>15</th>\n",
       "      <td>cylindernumber</td>\n",
       "      <td>object</td>\n",
       "      <td>7</td>\n",
       "      <td>0</td>\n",
       "    </tr>\n",
       "    <tr>\n",
       "      <th>16</th>\n",
       "      <td>enginesize</td>\n",
       "      <td>int64</td>\n",
       "      <td>44</td>\n",
       "      <td>0</td>\n",
       "    </tr>\n",
       "    <tr>\n",
       "      <th>17</th>\n",
       "      <td>fuelsystem</td>\n",
       "      <td>object</td>\n",
       "      <td>8</td>\n",
       "      <td>0</td>\n",
       "    </tr>\n",
       "    <tr>\n",
       "      <th>18</th>\n",
       "      <td>boreratio</td>\n",
       "      <td>float64</td>\n",
       "      <td>38</td>\n",
       "      <td>0</td>\n",
       "    </tr>\n",
       "    <tr>\n",
       "      <th>19</th>\n",
       "      <td>stroke</td>\n",
       "      <td>float64</td>\n",
       "      <td>37</td>\n",
       "      <td>0</td>\n",
       "    </tr>\n",
       "    <tr>\n",
       "      <th>20</th>\n",
       "      <td>compressionratio</td>\n",
       "      <td>float64</td>\n",
       "      <td>32</td>\n",
       "      <td>0</td>\n",
       "    </tr>\n",
       "    <tr>\n",
       "      <th>21</th>\n",
       "      <td>horsepower</td>\n",
       "      <td>int64</td>\n",
       "      <td>59</td>\n",
       "      <td>0</td>\n",
       "    </tr>\n",
       "    <tr>\n",
       "      <th>22</th>\n",
       "      <td>peakrpm</td>\n",
       "      <td>int64</td>\n",
       "      <td>23</td>\n",
       "      <td>0</td>\n",
       "    </tr>\n",
       "    <tr>\n",
       "      <th>23</th>\n",
       "      <td>citympg</td>\n",
       "      <td>int64</td>\n",
       "      <td>29</td>\n",
       "      <td>0</td>\n",
       "    </tr>\n",
       "    <tr>\n",
       "      <th>24</th>\n",
       "      <td>highwaympg</td>\n",
       "      <td>int64</td>\n",
       "      <td>30</td>\n",
       "      <td>0</td>\n",
       "    </tr>\n",
       "    <tr>\n",
       "      <th>25</th>\n",
       "      <td>price</td>\n",
       "      <td>float64</td>\n",
       "      <td>189</td>\n",
       "      <td>0</td>\n",
       "    </tr>\n",
       "  </tbody>\n",
       "</table>\n",
       "</div>"
      ],
      "text/plain": [
       "              column   dtypes  nunique  sum_null\n",
       "0             car_ID    int64      205         0\n",
       "1          symboling    int64        6         0\n",
       "2            CarName   object      147         0\n",
       "3           fueltype   object        2         0\n",
       "4         aspiration   object        2         0\n",
       "5         doornumber   object        2         0\n",
       "6            carbody   object        5         0\n",
       "7         drivewheel   object        3         0\n",
       "8     enginelocation   object        2         0\n",
       "9          wheelbase  float64       53         0\n",
       "10         carlength  float64       75         0\n",
       "11          carwidth  float64       44         0\n",
       "12         carheight  float64       49         0\n",
       "13        curbweight    int64      171         0\n",
       "14        enginetype   object        7         0\n",
       "15    cylindernumber   object        7         0\n",
       "16        enginesize    int64       44         0\n",
       "17        fuelsystem   object        8         0\n",
       "18         boreratio  float64       38         0\n",
       "19            stroke  float64       37         0\n",
       "20  compressionratio  float64       32         0\n",
       "21        horsepower    int64       59         0\n",
       "22           peakrpm    int64       23         0\n",
       "23           citympg    int64       29         0\n",
       "24        highwaympg    int64       30         0\n",
       "25             price  float64      189         0"
      ]
     },
     "execution_count": 4,
     "metadata": {},
     "output_type": "execute_result"
    }
   ],
   "source": [
    "# Summary to all colums \n",
    "def check(df):\n",
    "    l=[]\n",
    "    columns=df.columns\n",
    "    for col in columns:\n",
    "        dtypes=df[col].dtypes\n",
    "        nunique=df[col].nunique()\n",
    "        sum_null=df[col].isnull().sum()\n",
    "        l.append([col,dtypes,nunique,sum_null])\n",
    "    df_check=pd.DataFrame(l)\n",
    "    df_check.columns=['column','dtypes','nunique','sum_null']\n",
    "    return df_check \n",
    "check(df_cars)"
   ]
  },
  {
   "cell_type": "code",
   "execution_count": 5,
   "id": "2614d98a",
   "metadata": {
    "execution": {
     "iopub.execute_input": "2022-09-11T10:59:00.724236Z",
     "iopub.status.busy": "2022-09-11T10:59:00.723514Z",
     "iopub.status.idle": "2022-09-11T10:59:00.752264Z",
     "shell.execute_reply": "2022-09-11T10:59:00.751154Z"
    },
    "papermill": {
     "duration": 0.053387,
     "end_time": "2022-09-11T10:59:00.755434",
     "exception": false,
     "start_time": "2022-09-11T10:59:00.702047",
     "status": "completed"
    },
    "tags": []
   },
   "outputs": [
    {
     "data": {
      "text/html": [
       "<div>\n",
       "<style scoped>\n",
       "    .dataframe tbody tr th:only-of-type {\n",
       "        vertical-align: middle;\n",
       "    }\n",
       "\n",
       "    .dataframe tbody tr th {\n",
       "        vertical-align: top;\n",
       "    }\n",
       "\n",
       "    .dataframe thead th {\n",
       "        text-align: right;\n",
       "    }\n",
       "</style>\n",
       "<table border=\"1\" class=\"dataframe\">\n",
       "  <thead>\n",
       "    <tr style=\"text-align: right;\">\n",
       "      <th></th>\n",
       "      <th>car_ID</th>\n",
       "      <th>symboling</th>\n",
       "      <th>CarName</th>\n",
       "      <th>fueltype</th>\n",
       "      <th>aspiration</th>\n",
       "      <th>doornumber</th>\n",
       "      <th>carbody</th>\n",
       "      <th>drivewheel</th>\n",
       "      <th>enginelocation</th>\n",
       "      <th>wheelbase</th>\n",
       "      <th>...</th>\n",
       "      <th>enginesize</th>\n",
       "      <th>fuelsystem</th>\n",
       "      <th>boreratio</th>\n",
       "      <th>stroke</th>\n",
       "      <th>compressionratio</th>\n",
       "      <th>horsepower</th>\n",
       "      <th>peakrpm</th>\n",
       "      <th>citympg</th>\n",
       "      <th>highwaympg</th>\n",
       "      <th>price</th>\n",
       "    </tr>\n",
       "  </thead>\n",
       "  <tbody>\n",
       "    <tr>\n",
       "      <th>0</th>\n",
       "      <td>1</td>\n",
       "      <td>3</td>\n",
       "      <td>alfa-romero giulia</td>\n",
       "      <td>gas</td>\n",
       "      <td>std</td>\n",
       "      <td>two</td>\n",
       "      <td>convertible</td>\n",
       "      <td>rwd</td>\n",
       "      <td>front</td>\n",
       "      <td>88.6</td>\n",
       "      <td>...</td>\n",
       "      <td>130</td>\n",
       "      <td>mpfi</td>\n",
       "      <td>3.47</td>\n",
       "      <td>2.68</td>\n",
       "      <td>9.0</td>\n",
       "      <td>111</td>\n",
       "      <td>5000</td>\n",
       "      <td>21</td>\n",
       "      <td>27</td>\n",
       "      <td>13495.0</td>\n",
       "    </tr>\n",
       "    <tr>\n",
       "      <th>1</th>\n",
       "      <td>2</td>\n",
       "      <td>3</td>\n",
       "      <td>alfa-romero stelvio</td>\n",
       "      <td>gas</td>\n",
       "      <td>std</td>\n",
       "      <td>two</td>\n",
       "      <td>convertible</td>\n",
       "      <td>rwd</td>\n",
       "      <td>front</td>\n",
       "      <td>88.6</td>\n",
       "      <td>...</td>\n",
       "      <td>130</td>\n",
       "      <td>mpfi</td>\n",
       "      <td>3.47</td>\n",
       "      <td>2.68</td>\n",
       "      <td>9.0</td>\n",
       "      <td>111</td>\n",
       "      <td>5000</td>\n",
       "      <td>21</td>\n",
       "      <td>27</td>\n",
       "      <td>16500.0</td>\n",
       "    </tr>\n",
       "    <tr>\n",
       "      <th>2</th>\n",
       "      <td>3</td>\n",
       "      <td>1</td>\n",
       "      <td>alfa-romero Quadrifoglio</td>\n",
       "      <td>gas</td>\n",
       "      <td>std</td>\n",
       "      <td>two</td>\n",
       "      <td>hatchback</td>\n",
       "      <td>rwd</td>\n",
       "      <td>front</td>\n",
       "      <td>94.5</td>\n",
       "      <td>...</td>\n",
       "      <td>152</td>\n",
       "      <td>mpfi</td>\n",
       "      <td>2.68</td>\n",
       "      <td>3.47</td>\n",
       "      <td>9.0</td>\n",
       "      <td>154</td>\n",
       "      <td>5000</td>\n",
       "      <td>19</td>\n",
       "      <td>26</td>\n",
       "      <td>16500.0</td>\n",
       "    </tr>\n",
       "    <tr>\n",
       "      <th>3</th>\n",
       "      <td>4</td>\n",
       "      <td>2</td>\n",
       "      <td>audi 100 ls</td>\n",
       "      <td>gas</td>\n",
       "      <td>std</td>\n",
       "      <td>four</td>\n",
       "      <td>sedan</td>\n",
       "      <td>fwd</td>\n",
       "      <td>front</td>\n",
       "      <td>99.8</td>\n",
       "      <td>...</td>\n",
       "      <td>109</td>\n",
       "      <td>mpfi</td>\n",
       "      <td>3.19</td>\n",
       "      <td>3.40</td>\n",
       "      <td>10.0</td>\n",
       "      <td>102</td>\n",
       "      <td>5500</td>\n",
       "      <td>24</td>\n",
       "      <td>30</td>\n",
       "      <td>13950.0</td>\n",
       "    </tr>\n",
       "    <tr>\n",
       "      <th>4</th>\n",
       "      <td>5</td>\n",
       "      <td>2</td>\n",
       "      <td>audi 100ls</td>\n",
       "      <td>gas</td>\n",
       "      <td>std</td>\n",
       "      <td>four</td>\n",
       "      <td>sedan</td>\n",
       "      <td>4wd</td>\n",
       "      <td>front</td>\n",
       "      <td>99.4</td>\n",
       "      <td>...</td>\n",
       "      <td>136</td>\n",
       "      <td>mpfi</td>\n",
       "      <td>3.19</td>\n",
       "      <td>3.40</td>\n",
       "      <td>8.0</td>\n",
       "      <td>115</td>\n",
       "      <td>5500</td>\n",
       "      <td>18</td>\n",
       "      <td>22</td>\n",
       "      <td>17450.0</td>\n",
       "    </tr>\n",
       "  </tbody>\n",
       "</table>\n",
       "<p>5 rows × 26 columns</p>\n",
       "</div>"
      ],
      "text/plain": [
       "   car_ID  symboling                   CarName fueltype aspiration doornumber  \\\n",
       "0       1          3        alfa-romero giulia      gas        std        two   \n",
       "1       2          3       alfa-romero stelvio      gas        std        two   \n",
       "2       3          1  alfa-romero Quadrifoglio      gas        std        two   \n",
       "3       4          2               audi 100 ls      gas        std       four   \n",
       "4       5          2                audi 100ls      gas        std       four   \n",
       "\n",
       "       carbody drivewheel enginelocation  wheelbase  ...  enginesize  \\\n",
       "0  convertible        rwd          front       88.6  ...         130   \n",
       "1  convertible        rwd          front       88.6  ...         130   \n",
       "2    hatchback        rwd          front       94.5  ...         152   \n",
       "3        sedan        fwd          front       99.8  ...         109   \n",
       "4        sedan        4wd          front       99.4  ...         136   \n",
       "\n",
       "   fuelsystem  boreratio  stroke compressionratio horsepower  peakrpm citympg  \\\n",
       "0        mpfi       3.47    2.68              9.0        111     5000      21   \n",
       "1        mpfi       3.47    2.68              9.0        111     5000      21   \n",
       "2        mpfi       2.68    3.47              9.0        154     5000      19   \n",
       "3        mpfi       3.19    3.40             10.0        102     5500      24   \n",
       "4        mpfi       3.19    3.40              8.0        115     5500      18   \n",
       "\n",
       "   highwaympg    price  \n",
       "0          27  13495.0  \n",
       "1          27  16500.0  \n",
       "2          26  16500.0  \n",
       "3          30  13950.0  \n",
       "4          22  17450.0  \n",
       "\n",
       "[5 rows x 26 columns]"
      ]
     },
     "execution_count": 5,
     "metadata": {},
     "output_type": "execute_result"
    }
   ],
   "source": [
    "# Show the head of the dataFrame \n",
    "df_cars.head()"
   ]
  },
  {
   "cell_type": "code",
   "execution_count": 6,
   "id": "1f063086",
   "metadata": {
    "execution": {
     "iopub.execute_input": "2022-09-11T10:59:00.798414Z",
     "iopub.status.busy": "2022-09-11T10:59:00.797974Z",
     "iopub.status.idle": "2022-09-11T10:59:00.858823Z",
     "shell.execute_reply": "2022-09-11T10:59:00.857946Z"
    },
    "papermill": {
     "duration": 0.084876,
     "end_time": "2022-09-11T10:59:00.860983",
     "exception": false,
     "start_time": "2022-09-11T10:59:00.776107",
     "status": "completed"
    },
    "tags": []
   },
   "outputs": [
    {
     "data": {
      "text/html": [
       "<div>\n",
       "<style scoped>\n",
       "    .dataframe tbody tr th:only-of-type {\n",
       "        vertical-align: middle;\n",
       "    }\n",
       "\n",
       "    .dataframe tbody tr th {\n",
       "        vertical-align: top;\n",
       "    }\n",
       "\n",
       "    .dataframe thead th {\n",
       "        text-align: right;\n",
       "    }\n",
       "</style>\n",
       "<table border=\"1\" class=\"dataframe\">\n",
       "  <thead>\n",
       "    <tr style=\"text-align: right;\">\n",
       "      <th></th>\n",
       "      <th>car_ID</th>\n",
       "      <th>symboling</th>\n",
       "      <th>wheelbase</th>\n",
       "      <th>carlength</th>\n",
       "      <th>carwidth</th>\n",
       "      <th>carheight</th>\n",
       "      <th>curbweight</th>\n",
       "      <th>enginesize</th>\n",
       "      <th>boreratio</th>\n",
       "      <th>stroke</th>\n",
       "      <th>compressionratio</th>\n",
       "      <th>horsepower</th>\n",
       "      <th>peakrpm</th>\n",
       "      <th>citympg</th>\n",
       "      <th>highwaympg</th>\n",
       "      <th>price</th>\n",
       "    </tr>\n",
       "  </thead>\n",
       "  <tbody>\n",
       "    <tr>\n",
       "      <th>count</th>\n",
       "      <td>205.000000</td>\n",
       "      <td>205.000000</td>\n",
       "      <td>205.000000</td>\n",
       "      <td>205.000000</td>\n",
       "      <td>205.000000</td>\n",
       "      <td>205.000000</td>\n",
       "      <td>205.000000</td>\n",
       "      <td>205.000000</td>\n",
       "      <td>205.000000</td>\n",
       "      <td>205.000000</td>\n",
       "      <td>205.000000</td>\n",
       "      <td>205.000000</td>\n",
       "      <td>205.000000</td>\n",
       "      <td>205.000000</td>\n",
       "      <td>205.000000</td>\n",
       "      <td>205.000000</td>\n",
       "    </tr>\n",
       "    <tr>\n",
       "      <th>mean</th>\n",
       "      <td>103.000000</td>\n",
       "      <td>0.834146</td>\n",
       "      <td>98.756585</td>\n",
       "      <td>174.049268</td>\n",
       "      <td>65.907805</td>\n",
       "      <td>53.724878</td>\n",
       "      <td>2555.565854</td>\n",
       "      <td>126.907317</td>\n",
       "      <td>3.329756</td>\n",
       "      <td>3.255415</td>\n",
       "      <td>10.142537</td>\n",
       "      <td>104.117073</td>\n",
       "      <td>5125.121951</td>\n",
       "      <td>25.219512</td>\n",
       "      <td>30.751220</td>\n",
       "      <td>13276.710571</td>\n",
       "    </tr>\n",
       "    <tr>\n",
       "      <th>std</th>\n",
       "      <td>59.322565</td>\n",
       "      <td>1.245307</td>\n",
       "      <td>6.021776</td>\n",
       "      <td>12.337289</td>\n",
       "      <td>2.145204</td>\n",
       "      <td>2.443522</td>\n",
       "      <td>520.680204</td>\n",
       "      <td>41.642693</td>\n",
       "      <td>0.270844</td>\n",
       "      <td>0.313597</td>\n",
       "      <td>3.972040</td>\n",
       "      <td>39.544167</td>\n",
       "      <td>476.985643</td>\n",
       "      <td>6.542142</td>\n",
       "      <td>6.886443</td>\n",
       "      <td>7988.852332</td>\n",
       "    </tr>\n",
       "    <tr>\n",
       "      <th>min</th>\n",
       "      <td>1.000000</td>\n",
       "      <td>-2.000000</td>\n",
       "      <td>86.600000</td>\n",
       "      <td>141.100000</td>\n",
       "      <td>60.300000</td>\n",
       "      <td>47.800000</td>\n",
       "      <td>1488.000000</td>\n",
       "      <td>61.000000</td>\n",
       "      <td>2.540000</td>\n",
       "      <td>2.070000</td>\n",
       "      <td>7.000000</td>\n",
       "      <td>48.000000</td>\n",
       "      <td>4150.000000</td>\n",
       "      <td>13.000000</td>\n",
       "      <td>16.000000</td>\n",
       "      <td>5118.000000</td>\n",
       "    </tr>\n",
       "    <tr>\n",
       "      <th>25%</th>\n",
       "      <td>52.000000</td>\n",
       "      <td>0.000000</td>\n",
       "      <td>94.500000</td>\n",
       "      <td>166.300000</td>\n",
       "      <td>64.100000</td>\n",
       "      <td>52.000000</td>\n",
       "      <td>2145.000000</td>\n",
       "      <td>97.000000</td>\n",
       "      <td>3.150000</td>\n",
       "      <td>3.110000</td>\n",
       "      <td>8.600000</td>\n",
       "      <td>70.000000</td>\n",
       "      <td>4800.000000</td>\n",
       "      <td>19.000000</td>\n",
       "      <td>25.000000</td>\n",
       "      <td>7788.000000</td>\n",
       "    </tr>\n",
       "    <tr>\n",
       "      <th>50%</th>\n",
       "      <td>103.000000</td>\n",
       "      <td>1.000000</td>\n",
       "      <td>97.000000</td>\n",
       "      <td>173.200000</td>\n",
       "      <td>65.500000</td>\n",
       "      <td>54.100000</td>\n",
       "      <td>2414.000000</td>\n",
       "      <td>120.000000</td>\n",
       "      <td>3.310000</td>\n",
       "      <td>3.290000</td>\n",
       "      <td>9.000000</td>\n",
       "      <td>95.000000</td>\n",
       "      <td>5200.000000</td>\n",
       "      <td>24.000000</td>\n",
       "      <td>30.000000</td>\n",
       "      <td>10295.000000</td>\n",
       "    </tr>\n",
       "    <tr>\n",
       "      <th>75%</th>\n",
       "      <td>154.000000</td>\n",
       "      <td>2.000000</td>\n",
       "      <td>102.400000</td>\n",
       "      <td>183.100000</td>\n",
       "      <td>66.900000</td>\n",
       "      <td>55.500000</td>\n",
       "      <td>2935.000000</td>\n",
       "      <td>141.000000</td>\n",
       "      <td>3.580000</td>\n",
       "      <td>3.410000</td>\n",
       "      <td>9.400000</td>\n",
       "      <td>116.000000</td>\n",
       "      <td>5500.000000</td>\n",
       "      <td>30.000000</td>\n",
       "      <td>34.000000</td>\n",
       "      <td>16503.000000</td>\n",
       "    </tr>\n",
       "    <tr>\n",
       "      <th>max</th>\n",
       "      <td>205.000000</td>\n",
       "      <td>3.000000</td>\n",
       "      <td>120.900000</td>\n",
       "      <td>208.100000</td>\n",
       "      <td>72.300000</td>\n",
       "      <td>59.800000</td>\n",
       "      <td>4066.000000</td>\n",
       "      <td>326.000000</td>\n",
       "      <td>3.940000</td>\n",
       "      <td>4.170000</td>\n",
       "      <td>23.000000</td>\n",
       "      <td>288.000000</td>\n",
       "      <td>6600.000000</td>\n",
       "      <td>49.000000</td>\n",
       "      <td>54.000000</td>\n",
       "      <td>45400.000000</td>\n",
       "    </tr>\n",
       "  </tbody>\n",
       "</table>\n",
       "</div>"
      ],
      "text/plain": [
       "           car_ID   symboling   wheelbase   carlength    carwidth   carheight  \\\n",
       "count  205.000000  205.000000  205.000000  205.000000  205.000000  205.000000   \n",
       "mean   103.000000    0.834146   98.756585  174.049268   65.907805   53.724878   \n",
       "std     59.322565    1.245307    6.021776   12.337289    2.145204    2.443522   \n",
       "min      1.000000   -2.000000   86.600000  141.100000   60.300000   47.800000   \n",
       "25%     52.000000    0.000000   94.500000  166.300000   64.100000   52.000000   \n",
       "50%    103.000000    1.000000   97.000000  173.200000   65.500000   54.100000   \n",
       "75%    154.000000    2.000000  102.400000  183.100000   66.900000   55.500000   \n",
       "max    205.000000    3.000000  120.900000  208.100000   72.300000   59.800000   \n",
       "\n",
       "        curbweight  enginesize   boreratio      stroke  compressionratio  \\\n",
       "count   205.000000  205.000000  205.000000  205.000000        205.000000   \n",
       "mean   2555.565854  126.907317    3.329756    3.255415         10.142537   \n",
       "std     520.680204   41.642693    0.270844    0.313597          3.972040   \n",
       "min    1488.000000   61.000000    2.540000    2.070000          7.000000   \n",
       "25%    2145.000000   97.000000    3.150000    3.110000          8.600000   \n",
       "50%    2414.000000  120.000000    3.310000    3.290000          9.000000   \n",
       "75%    2935.000000  141.000000    3.580000    3.410000          9.400000   \n",
       "max    4066.000000  326.000000    3.940000    4.170000         23.000000   \n",
       "\n",
       "       horsepower      peakrpm     citympg  highwaympg         price  \n",
       "count  205.000000   205.000000  205.000000  205.000000    205.000000  \n",
       "mean   104.117073  5125.121951   25.219512   30.751220  13276.710571  \n",
       "std     39.544167   476.985643    6.542142    6.886443   7988.852332  \n",
       "min     48.000000  4150.000000   13.000000   16.000000   5118.000000  \n",
       "25%     70.000000  4800.000000   19.000000   25.000000   7788.000000  \n",
       "50%     95.000000  5200.000000   24.000000   30.000000  10295.000000  \n",
       "75%    116.000000  5500.000000   30.000000   34.000000  16503.000000  \n",
       "max    288.000000  6600.000000   49.000000   54.000000  45400.000000  "
      ]
     },
     "execution_count": 6,
     "metadata": {},
     "output_type": "execute_result"
    }
   ],
   "source": [
    "## Some statistics on data \n",
    "df_cars.describe()"
   ]
  },
  {
   "cell_type": "code",
   "execution_count": 7,
   "id": "bb8ef888",
   "metadata": {
    "execution": {
     "iopub.execute_input": "2022-09-11T10:59:00.906498Z",
     "iopub.status.busy": "2022-09-11T10:59:00.905518Z",
     "iopub.status.idle": "2022-09-11T10:59:00.914413Z",
     "shell.execute_reply": "2022-09-11T10:59:00.913541Z"
    },
    "papermill": {
     "duration": 0.034208,
     "end_time": "2022-09-11T10:59:00.916803",
     "exception": false,
     "start_time": "2022-09-11T10:59:00.882595",
     "status": "completed"
    },
    "tags": []
   },
   "outputs": [
    {
     "data": {
      "text/plain": [
       "car_ID              0\n",
       "symboling           0\n",
       "CarName             0\n",
       "fueltype            0\n",
       "aspiration          0\n",
       "doornumber          0\n",
       "carbody             0\n",
       "drivewheel          0\n",
       "enginelocation      0\n",
       "wheelbase           0\n",
       "carlength           0\n",
       "carwidth            0\n",
       "carheight           0\n",
       "curbweight          0\n",
       "enginetype          0\n",
       "cylindernumber      0\n",
       "enginesize          0\n",
       "fuelsystem          0\n",
       "boreratio           0\n",
       "stroke              0\n",
       "compressionratio    0\n",
       "horsepower          0\n",
       "peakrpm             0\n",
       "citympg             0\n",
       "highwaympg          0\n",
       "price               0\n",
       "dtype: int64"
      ]
     },
     "execution_count": 7,
     "metadata": {},
     "output_type": "execute_result"
    }
   ],
   "source": [
    "## check nulls of data \n",
    "df_cars.isnull().sum()"
   ]
  },
  {
   "cell_type": "markdown",
   "id": "0d30a444",
   "metadata": {
    "papermill": {
     "duration": 0.020779,
     "end_time": "2022-09-11T10:59:00.960162",
     "exception": false,
     "start_time": "2022-09-11T10:59:00.939383",
     "status": "completed"
    },
    "tags": []
   },
   "source": [
    "- Their is no null values"
   ]
  },
  {
   "cell_type": "code",
   "execution_count": 8,
   "id": "1ecca61a",
   "metadata": {
    "execution": {
     "iopub.execute_input": "2022-09-11T10:59:01.005616Z",
     "iopub.status.busy": "2022-09-11T10:59:01.004848Z",
     "iopub.status.idle": "2022-09-11T10:59:01.015422Z",
     "shell.execute_reply": "2022-09-11T10:59:01.014188Z"
    },
    "papermill": {
     "duration": 0.035679,
     "end_time": "2022-09-11T10:59:01.017746",
     "exception": false,
     "start_time": "2022-09-11T10:59:00.982067",
     "status": "completed"
    },
    "tags": []
   },
   "outputs": [
    {
     "data": {
      "text/plain": [
       "0"
      ]
     },
     "execution_count": 8,
     "metadata": {},
     "output_type": "execute_result"
    }
   ],
   "source": [
    "# Check the Duplicates in dataset\n",
    "df_cars.duplicated().sum()"
   ]
  },
  {
   "cell_type": "markdown",
   "id": "d266bab9",
   "metadata": {
    "papermill": {
     "duration": 0.021623,
     "end_time": "2022-09-11T10:59:01.062661",
     "exception": false,
     "start_time": "2022-09-11T10:59:01.041038",
     "status": "completed"
    },
    "tags": []
   },
   "source": [
    "- Their is No duplicates in the data "
   ]
  },
  {
   "cell_type": "code",
   "execution_count": 9,
   "id": "328f0c3f",
   "metadata": {
    "execution": {
     "iopub.execute_input": "2022-09-11T10:59:01.110269Z",
     "iopub.status.busy": "2022-09-11T10:59:01.109801Z",
     "iopub.status.idle": "2022-09-11T10:59:01.118239Z",
     "shell.execute_reply": "2022-09-11T10:59:01.117383Z"
    },
    "papermill": {
     "duration": 0.03575,
     "end_time": "2022-09-11T10:59:01.120481",
     "exception": false,
     "start_time": "2022-09-11T10:59:01.084731",
     "status": "completed"
    },
    "tags": []
   },
   "outputs": [
    {
     "data": {
      "text/plain": [
       "Index(['car_ID', 'symboling', 'CarName', 'fueltype', 'aspiration',\n",
       "       'doornumber', 'carbody', 'drivewheel', 'enginelocation', 'wheelbase',\n",
       "       'carlength', 'carwidth', 'carheight', 'curbweight', 'enginetype',\n",
       "       'cylindernumber', 'enginesize', 'fuelsystem', 'boreratio', 'stroke',\n",
       "       'compressionratio', 'horsepower', 'peakrpm', 'citympg', 'highwaympg',\n",
       "       'price'],\n",
       "      dtype='object')"
      ]
     },
     "execution_count": 9,
     "metadata": {},
     "output_type": "execute_result"
    }
   ],
   "source": [
    "df_cars.columns"
   ]
  },
  {
   "cell_type": "code",
   "execution_count": 10,
   "id": "cc263062",
   "metadata": {
    "execution": {
     "iopub.execute_input": "2022-09-11T10:59:01.166752Z",
     "iopub.status.busy": "2022-09-11T10:59:01.165703Z",
     "iopub.status.idle": "2022-09-11T10:59:01.172807Z",
     "shell.execute_reply": "2022-09-11T10:59:01.171647Z"
    },
    "papermill": {
     "duration": 0.032042,
     "end_time": "2022-09-11T10:59:01.175048",
     "exception": false,
     "start_time": "2022-09-11T10:59:01.143006",
     "status": "completed"
    },
    "tags": []
   },
   "outputs": [],
   "source": [
    "# Drop the CarID column\n",
    "df_cars.drop('car_ID',axis=1,inplace=True)"
   ]
  },
  {
   "cell_type": "code",
   "execution_count": 11,
   "id": "17cc4d9c",
   "metadata": {
    "execution": {
     "iopub.execute_input": "2022-09-11T10:59:01.220621Z",
     "iopub.status.busy": "2022-09-11T10:59:01.219888Z",
     "iopub.status.idle": "2022-09-11T10:59:04.859416Z",
     "shell.execute_reply": "2022-09-11T10:59:04.858093Z"
    },
    "papermill": {
     "duration": 3.664912,
     "end_time": "2022-09-11T10:59:04.862145",
     "exception": false,
     "start_time": "2022-09-11T10:59:01.197233",
     "status": "completed"
    },
    "tags": []
   },
   "outputs": [
    {
     "data": {
      "image/png": "[encoded data removed]",
      "text/plain": [
       "<Figure size 1440x1080 with 16 Axes>"
      ]
     },
     "metadata": {
      "needs_background": "light"
     },
     "output_type": "display_data"
    }
   ],
   "source": [
    "# Histogram to all the nummeric columns\n",
    "df_cars.hist(bins=40,figsize=(20,15),color='b');"
   ]
  },
  {
   "cell_type": "code",
   "execution_count": 12,
   "id": "ab58e90d",
   "metadata": {
    "execution": {
     "iopub.execute_input": "2022-09-11T10:59:04.908501Z",
     "iopub.status.busy": "2022-09-11T10:59:04.906997Z",
     "iopub.status.idle": "2022-09-11T10:59:04.914991Z",
     "shell.execute_reply": "2022-09-11T10:59:04.914074Z"
    },
    "papermill": {
     "duration": 0.032946,
     "end_time": "2022-09-11T10:59:04.917179",
     "exception": false,
     "start_time": "2022-09-11T10:59:04.884233",
     "status": "completed"
    },
    "tags": []
   },
   "outputs": [],
   "source": [
    "# Get the main names of cars\n",
    "df_cars['CarName'] = df_cars['CarName'].str.split(' ',expand=True)[0]"
   ]
  },
  {
   "cell_type": "code",
   "execution_count": 13,
   "id": "a73bf695",
   "metadata": {
    "execution": {
     "iopub.execute_input": "2022-09-11T10:59:04.962421Z",
     "iopub.status.busy": "2022-09-11T10:59:04.961618Z",
     "iopub.status.idle": "2022-09-11T10:59:04.969518Z",
     "shell.execute_reply": "2022-09-11T10:59:04.968236Z"
    },
    "papermill": {
     "duration": 0.033949,
     "end_time": "2022-09-11T10:59:04.972431",
     "exception": false,
     "start_time": "2022-09-11T10:59:04.938482",
     "status": "completed"
    },
    "tags": []
   },
   "outputs": [
    {
     "data": {
      "text/plain": [
       "array(['alfa-romero', 'audi', 'bmw', 'chevrolet', 'dodge', 'honda',\n",
       "       'isuzu', 'jaguar', 'maxda', 'mazda', 'buick', 'mercury',\n",
       "       'mitsubishi', 'Nissan', 'nissan', 'peugeot', 'plymouth', 'porsche',\n",
       "       'porcshce', 'renault', 'saab', 'subaru', 'toyota', 'toyouta',\n",
       "       'vokswagen', 'volkswagen', 'vw', 'volvo'], dtype=object)"
      ]
     },
     "execution_count": 13,
     "metadata": {},
     "output_type": "execute_result"
    }
   ],
   "source": [
    "# Unique names of cars\n",
    "df_cars.CarName.unique()"
   ]
  },
  {
   "cell_type": "code",
   "execution_count": 14,
   "id": "8c709c57",
   "metadata": {
    "execution": {
     "iopub.execute_input": "2022-09-11T10:59:05.019765Z",
     "iopub.status.busy": "2022-09-11T10:59:05.018878Z",
     "iopub.status.idle": "2022-09-11T10:59:05.026409Z",
     "shell.execute_reply": "2022-09-11T10:59:05.025538Z"
    },
    "papermill": {
     "duration": 0.033874,
     "end_time": "2022-09-11T10:59:05.028902",
     "exception": false,
     "start_time": "2022-09-11T10:59:04.995028",
     "status": "completed"
    },
    "tags": []
   },
   "outputs": [],
   "source": [
    "#  Fix the mistakes in cars names \n",
    "df_cars['CarName'] = df_cars['CarName'].replace({'maxda': 'mazda', 'nissan': 'Nissan', 'porcshce': 'porsche', 'toyouta': 'toyota', \n",
    "                            'vokswagen': 'volkswagen', 'vw': 'volkswagen'})"
   ]
  },
  {
   "cell_type": "code",
   "execution_count": 15,
   "id": "987f4b4d",
   "metadata": {
    "execution": {
     "iopub.execute_input": "2022-09-11T10:59:05.075936Z",
     "iopub.status.busy": "2022-09-11T10:59:05.075034Z",
     "iopub.status.idle": "2022-09-11T10:59:05.082928Z",
     "shell.execute_reply": "2022-09-11T10:59:05.082003Z"
    },
    "papermill": {
     "duration": 0.033855,
     "end_time": "2022-09-11T10:59:05.085227",
     "exception": false,
     "start_time": "2022-09-11T10:59:05.051372",
     "status": "completed"
    },
    "tags": []
   },
   "outputs": [
    {
     "data": {
      "text/plain": [
       "array(['alfa-romero', 'audi', 'bmw', 'chevrolet', 'dodge', 'honda',\n",
       "       'isuzu', 'jaguar', 'mazda', 'buick', 'mercury', 'mitsubishi',\n",
       "       'Nissan', 'peugeot', 'plymouth', 'porsche', 'renault', 'saab',\n",
       "       'subaru', 'toyota', 'volkswagen', 'volvo'], dtype=object)"
      ]
     },
     "execution_count": 15,
     "metadata": {},
     "output_type": "execute_result"
    }
   ],
   "source": [
    "# Unique names of cars after updating\n",
    "df_cars.CarName.unique()"
   ]
  },
  {
   "cell_type": "code",
   "execution_count": 16,
   "id": "f02ea030",
   "metadata": {
    "execution": {
     "iopub.execute_input": "2022-09-11T10:59:05.131616Z",
     "iopub.status.busy": "2022-09-11T10:59:05.130769Z",
     "iopub.status.idle": "2022-09-11T10:59:05.137934Z",
     "shell.execute_reply": "2022-09-11T10:59:05.137058Z"
    },
    "papermill": {
     "duration": 0.033318,
     "end_time": "2022-09-11T10:59:05.140362",
     "exception": false,
     "start_time": "2022-09-11T10:59:05.107044",
     "status": "completed"
    },
    "tags": []
   },
   "outputs": [],
   "source": [
    "# Select the categorical columns\n",
    "categorical_cols=df_cars.select_dtypes(include=['object']).columns"
   ]
  },
  {
   "cell_type": "code",
   "execution_count": 17,
   "id": "1a342f38",
   "metadata": {
    "execution": {
     "iopub.execute_input": "2022-09-11T10:59:05.186830Z",
     "iopub.status.busy": "2022-09-11T10:59:05.185910Z",
     "iopub.status.idle": "2022-09-11T10:59:05.201697Z",
     "shell.execute_reply": "2022-09-11T10:59:05.200417Z"
    },
    "papermill": {
     "duration": 0.042645,
     "end_time": "2022-09-11T10:59:05.204800",
     "exception": false,
     "start_time": "2022-09-11T10:59:05.162155",
     "status": "completed"
    },
    "tags": []
   },
   "outputs": [
    {
     "name": "stdout",
     "output_type": "stream",
     "text": [
      "CarName unique values\n",
      "-----------------------------------\n",
      "['alfa-romero' 'audi' 'bmw' 'chevrolet' 'dodge' 'honda' 'isuzu' 'jaguar'\n",
      " 'mazda' 'buick' 'mercury' 'mitsubishi' 'Nissan' 'peugeot' 'plymouth'\n",
      " 'porsche' 'renault' 'saab' 'subaru' 'toyota' 'volkswagen' 'volvo']\n",
      "-----------------------------------------------------------------------------\n",
      "fueltype unique values\n",
      "-----------------------------------\n",
      "['gas' 'diesel']\n",
      "-----------------------------------------------------------------------------\n",
      "aspiration unique values\n",
      "-----------------------------------\n",
      "['std' 'turbo']\n",
      "-----------------------------------------------------------------------------\n",
      "doornumber unique values\n",
      "-----------------------------------\n",
      "['two' 'four']\n",
      "-----------------------------------------------------------------------------\n",
      "carbody unique values\n",
      "-----------------------------------\n",
      "['convertible' 'hatchback' 'sedan' 'wagon' 'hardtop']\n",
      "-----------------------------------------------------------------------------\n",
      "drivewheel unique values\n",
      "-----------------------------------\n",
      "['rwd' 'fwd' '4wd']\n",
      "-----------------------------------------------------------------------------\n",
      "enginelocation unique values\n",
      "-----------------------------------\n",
      "['front' 'rear']\n",
      "-----------------------------------------------------------------------------\n",
      "enginetype unique values\n",
      "-----------------------------------\n",
      "['dohc' 'ohcv' 'ohc' 'l' 'rotor' 'ohcf' 'dohcv']\n",
      "-----------------------------------------------------------------------------\n",
      "cylindernumber unique values\n",
      "-----------------------------------\n",
      "['four' 'six' 'five' 'three' 'twelve' 'two' 'eight']\n",
      "-----------------------------------------------------------------------------\n",
      "fuelsystem unique values\n",
      "-----------------------------------\n",
      "['mpfi' '2bbl' 'mfi' '1bbl' 'spfi' '4bbl' 'idi' 'spdi']\n",
      "-----------------------------------------------------------------------------\n"
     ]
    }
   ],
   "source": [
    "# print all the unique values of all categorical columns\n",
    "for i in categorical_cols:\n",
    "    print(i,'unique values')\n",
    "    print('-----------------------------------')\n",
    "    print(df_cars[i].unique())\n",
    "    print('-----------------------------------------------------------------------------')\n"
   ]
  },
  {
   "cell_type": "markdown",
   "id": "7e4e562b",
   "metadata": {
    "papermill": {
     "duration": 0.021984,
     "end_time": "2022-09-11T10:59:05.251151",
     "exception": false,
     "start_time": "2022-09-11T10:59:05.229167",
     "status": "completed"
    },
    "tags": []
   },
   "source": [
    "- toyota is the maximum one "
   ]
  },
  {
   "cell_type": "code",
   "execution_count": 18,
   "id": "b74eb917",
   "metadata": {
    "execution": {
     "iopub.execute_input": "2022-09-11T10:59:05.297571Z",
     "iopub.status.busy": "2022-09-11T10:59:05.296686Z",
     "iopub.status.idle": "2022-09-11T10:59:05.310165Z",
     "shell.execute_reply": "2022-09-11T10:59:05.308790Z"
    },
    "papermill": {
     "duration": 0.039997,
     "end_time": "2022-09-11T10:59:05.312937",
     "exception": false,
     "start_time": "2022-09-11T10:59:05.272940",
     "status": "completed"
    },
    "tags": []
   },
   "outputs": [],
   "source": [
    "le = LabelEncoder()\n",
    "df_cars['CarName'] = le.fit_transform(df_cars['CarName'])\n",
    "df_cars['fueltype'] = le.fit_transform(df_cars['fueltype'])\n",
    "df_cars['aspiration'] = le.fit_transform(df_cars['aspiration'])\n",
    "df_cars['doornumber'] = le.fit_transform(df_cars['doornumber'])\n",
    "df_cars['carbody'] = le.fit_transform(df_cars['carbody'])\n",
    "df_cars['drivewheel'] = le.fit_transform(df_cars['drivewheel'])\n",
    "df_cars['enginelocation'] = le.fit_transform(df_cars['enginelocation'])\n",
    "df_cars['enginetype'] = le.fit_transform(df_cars['enginetype'])\n",
    "df_cars['cylindernumber'] = le.fit_transform(df_cars['cylindernumber'])\n",
    "df_cars['fuelsystem'] = le.fit_transform(df_cars['fuelsystem'])"
   ]
  },
  {
   "cell_type": "code",
   "execution_count": 19,
   "id": "b151b1d8",
   "metadata": {
    "execution": {
     "iopub.execute_input": "2022-09-11T10:59:05.359594Z",
     "iopub.status.busy": "2022-09-11T10:59:05.358717Z",
     "iopub.status.idle": "2022-09-11T10:59:08.890886Z",
     "shell.execute_reply": "2022-09-11T10:59:08.889326Z"
    },
    "papermill": {
     "duration": 3.563882,
     "end_time": "2022-09-11T10:59:08.898759",
     "exception": false,
     "start_time": "2022-09-11T10:59:05.334877",
     "status": "completed"
    },
    "tags": []
   },
   "outputs": [
    {
     "data": {
      "text/plain": [
       "<AxesSubplot:>"
      ]
     },
     "execution_count": 19,
     "metadata": {},
     "output_type": "execute_result"
    },
    {
     "data": {
      "image/png": "[encoded data removed]",
      "text/plain": [
       "<Figure size 2160x1440 with 2 Axes>"
      ]
     },
     "metadata": {
      "needs_background": "light"
     },
     "output_type": "display_data"
    }
   ],
   "source": [
    "plt.figure(figsize=(30,20))\n",
    "c = df_cars.corr()\n",
    "sns.heatmap(c,annot=True)"
   ]
  },
  {
   "cell_type": "markdown",
   "id": "9348e5b5",
   "metadata": {
    "papermill": {
     "duration": 0.028754,
     "end_time": "2022-09-11T10:59:08.955553",
     "exception": false,
     "start_time": "2022-09-11T10:59:08.926799",
     "status": "completed"
    },
    "tags": []
   },
   "source": [
    "# Comment \n",
    ">  Price has high correlation with{wheelbase , carlength , carwidth , curbweight , enginesize , boreratio , horsepower , citympg , highwaympg , drivewheel , fuelsystem }"
   ]
  },
  {
   "cell_type": "markdown",
   "id": "684ec4cc",
   "metadata": {
    "papermill": {
     "duration": 0.027397,
     "end_time": "2022-09-11T10:59:09.010944",
     "exception": false,
     "start_time": "2022-09-11T10:59:08.983547",
     "status": "completed"
    },
    "tags": []
   },
   "source": [
    "# Train Test Split "
   ]
  },
  {
   "cell_type": "code",
   "execution_count": 20,
   "id": "fc765af3",
   "metadata": {
    "execution": {
     "iopub.execute_input": "2022-09-11T10:59:09.070148Z",
     "iopub.status.busy": "2022-09-11T10:59:09.069684Z",
     "iopub.status.idle": "2022-09-11T10:59:09.141104Z",
     "shell.execute_reply": "2022-09-11T10:59:09.139716Z"
    },
    "papermill": {
     "duration": 0.105158,
     "end_time": "2022-09-11T10:59:09.144071",
     "exception": false,
     "start_time": "2022-09-11T10:59:09.038913",
     "status": "completed"
    },
    "tags": []
   },
   "outputs": [],
   "source": [
    "from sklearn.model_selection import train_test_split"
   ]
  },
  {
   "cell_type": "code",
   "execution_count": 21,
   "id": "6706c3f7",
   "metadata": {
    "execution": {
     "iopub.execute_input": "2022-09-11T10:59:09.203707Z",
     "iopub.status.busy": "2022-09-11T10:59:09.202655Z",
     "iopub.status.idle": "2022-09-11T10:59:09.211672Z",
     "shell.execute_reply": "2022-09-11T10:59:09.210660Z"
    },
    "papermill": {
     "duration": 0.042085,
     "end_time": "2022-09-11T10:59:09.213802",
     "exception": false,
     "start_time": "2022-09-11T10:59:09.171717",
     "status": "completed"
    },
    "tags": []
   },
   "outputs": [],
   "source": [
    "# split the data to x and y\n",
    "# y is 1 column contain the values is the target\n",
    "# x contain the values of the rest of columns\n",
    "cars = df_cars[['wheelbase' , 'carlength' , 'carwidth' , 'curbweight' , \n",
    "                'enginesize' ,'boreratio' , 'horsepower' , 'citympg' ,\n",
    "                'highwaympg' , 'drivewheel' , 'fuelsystem','price' ]]\n",
    "x = cars.drop('price',axis=1).values\n",
    "y = cars['price'].values"
   ]
  },
  {
   "cell_type": "code",
   "execution_count": 22,
   "id": "197d76e2",
   "metadata": {
    "execution": {
     "iopub.execute_input": "2022-09-11T10:59:09.269866Z",
     "iopub.status.busy": "2022-09-11T10:59:09.268648Z",
     "iopub.status.idle": "2022-09-11T10:59:09.276265Z",
     "shell.execute_reply": "2022-09-11T10:59:09.275132Z"
    },
    "papermill": {
     "duration": 0.038251,
     "end_time": "2022-09-11T10:59:09.278586",
     "exception": false,
     "start_time": "2022-09-11T10:59:09.240335",
     "status": "completed"
    },
    "tags": []
   },
   "outputs": [],
   "source": [
    "x_train,x_test,y_train,y_test = train_test_split(x,y,test_size=0.25 , random_state=42)"
   ]
  },
  {
   "cell_type": "markdown",
   "id": "dccbe1fa",
   "metadata": {
    "papermill": {
     "duration": 0.026426,
     "end_time": "2022-09-11T10:59:09.331599",
     "exception": false,
     "start_time": "2022-09-11T10:59:09.305173",
     "status": "completed"
    },
    "tags": []
   },
   "source": [
    "# Data scaling using robust regression"
   ]
  },
  {
   "cell_type": "code",
   "execution_count": 23,
   "id": "396d0821",
   "metadata": {
    "execution": {
     "iopub.execute_input": "2022-09-11T10:59:09.387429Z",
     "iopub.status.busy": "2022-09-11T10:59:09.386535Z",
     "iopub.status.idle": "2022-09-11T10:59:09.397583Z",
     "shell.execute_reply": "2022-09-11T10:59:09.396632Z"
    },
    "papermill": {
     "duration": 0.041304,
     "end_time": "2022-09-11T10:59:09.399599",
     "exception": false,
     "start_time": "2022-09-11T10:59:09.358295",
     "status": "completed"
    },
    "tags": []
   },
   "outputs": [],
   "source": [
    "from sklearn.preprocessing import RobustScaler\n",
    "ro_scaler = RobustScaler()\n",
    "x_train = ro_scaler.fit_transform(x_train)\n",
    "x_test = ro_scaler.fit_transform(x_test)"
   ]
  },
  {
   "cell_type": "markdown",
   "id": "bb612fed",
   "metadata": {
    "papermill": {
     "duration": 0.026177,
     "end_time": "2022-09-11T10:59:09.452316",
     "exception": false,
     "start_time": "2022-09-11T10:59:09.426139",
     "status": "completed"
    },
    "tags": []
   },
   "source": [
    "# Linear regression model"
   ]
  },
  {
   "cell_type": "code",
   "execution_count": 24,
   "id": "ca6a4dd0",
   "metadata": {
    "execution": {
     "iopub.execute_input": "2022-09-11T10:59:09.508575Z",
     "iopub.status.busy": "2022-09-11T10:59:09.507726Z",
     "iopub.status.idle": "2022-09-11T10:59:09.618322Z",
     "shell.execute_reply": "2022-09-11T10:59:09.617266Z"
    },
    "papermill": {
     "duration": 0.141519,
     "end_time": "2022-09-11T10:59:09.620469",
     "exception": false,
     "start_time": "2022-09-11T10:59:09.478950",
     "status": "completed"
    },
    "tags": []
   },
   "outputs": [
    {
     "data": {
      "text/plain": [
       "LinearRegression()"
      ]
     },
     "execution_count": 24,
     "metadata": {},
     "output_type": "execute_result"
    }
   ],
   "source": [
    "from sklearn import linear_model\n",
    "reg = linear_model.LinearRegression()\n",
    "reg.fit(x_train,y_train)"
   ]
  },
  {
   "cell_type": "code",
   "execution_count": 25,
   "id": "7f27df47",
   "metadata": {
    "execution": {
     "iopub.execute_input": "2022-09-11T10:59:09.678245Z",
     "iopub.status.busy": "2022-09-11T10:59:09.677373Z",
     "iopub.status.idle": "2022-09-11T10:59:09.687249Z",
     "shell.execute_reply": "2022-09-11T10:59:09.686300Z"
    },
    "papermill": {
     "duration": 0.042148,
     "end_time": "2022-09-11T10:59:09.689422",
     "exception": false,
     "start_time": "2022-09-11T10:59:09.647274",
     "status": "completed"
    },
    "tags": []
   },
   "outputs": [
    {
     "data": {
      "text/plain": [
       "0.8313498634666621"
      ]
     },
     "execution_count": 25,
     "metadata": {},
     "output_type": "execute_result"
    }
   ],
   "source": [
    "reg.score(x_train,y_train)"
   ]
  },
  {
   "cell_type": "code",
   "execution_count": 26,
   "id": "e2ab5213",
   "metadata": {
    "execution": {
     "iopub.execute_input": "2022-09-11T10:59:09.748976Z",
     "iopub.status.busy": "2022-09-11T10:59:09.748226Z",
     "iopub.status.idle": "2022-09-11T10:59:09.755154Z",
     "shell.execute_reply": "2022-09-11T10:59:09.754407Z"
    },
    "papermill": {
     "duration": 0.040615,
     "end_time": "2022-09-11T10:59:09.757248",
     "exception": false,
     "start_time": "2022-09-11T10:59:09.716633",
     "status": "completed"
    },
    "tags": []
   },
   "outputs": [
    {
     "data": {
      "text/plain": [
       "0.7967797841219427"
      ]
     },
     "execution_count": 26,
     "metadata": {},
     "output_type": "execute_result"
    }
   ],
   "source": [
    "reg.score(x_test,y_test)"
   ]
  },
  {
   "cell_type": "code",
   "execution_count": 27,
   "id": "5197a6cc",
   "metadata": {
    "execution": {
     "iopub.execute_input": "2022-09-11T10:59:09.816760Z",
     "iopub.status.busy": "2022-09-11T10:59:09.816041Z",
     "iopub.status.idle": "2022-09-11T10:59:09.822423Z",
     "shell.execute_reply": "2022-09-11T10:59:09.821026Z"
    },
    "papermill": {
     "duration": 0.039277,
     "end_time": "2022-09-11T10:59:09.824688",
     "exception": false,
     "start_time": "2022-09-11T10:59:09.785411",
     "status": "completed"
    },
    "tags": []
   },
   "outputs": [
    {
     "data": {
      "text/plain": [
       "11232.818829689837"
      ]
     },
     "execution_count": 27,
     "metadata": {},
     "output_type": "execute_result"
    }
   ],
   "source": [
    "reg.intercept_"
   ]
  },
  {
   "cell_type": "code",
   "execution_count": 28,
   "id": "584b03ef",
   "metadata": {
    "execution": {
     "iopub.execute_input": "2022-09-11T10:59:09.884790Z",
     "iopub.status.busy": "2022-09-11T10:59:09.884069Z",
     "iopub.status.idle": "2022-09-11T10:59:09.890635Z",
     "shell.execute_reply": "2022-09-11T10:59:09.889568Z"
    },
    "papermill": {
     "duration": 0.039602,
     "end_time": "2022-09-11T10:59:09.892908",
     "exception": false,
     "start_time": "2022-09-11T10:59:09.853306",
     "status": "completed"
    },
    "tags": []
   },
   "outputs": [
    {
     "data": {
      "text/plain": [
       "array([-2.37721399e+02,  2.79728771e+00,  1.80443248e+03,  7.76706582e+02,\n",
       "        3.46784881e+03, -4.33940330e+02,  1.98870281e+03, -5.18090497e+02,\n",
       "       -6.12200370e+02,  1.38302142e+03, -6.50777960e+02])"
      ]
     },
     "execution_count": 28,
     "metadata": {},
     "output_type": "execute_result"
    }
   ],
   "source": [
    "reg.coef_"
   ]
  },
  {
   "cell_type": "code",
   "execution_count": 29,
   "id": "9f9deeaa",
   "metadata": {
    "execution": {
     "iopub.execute_input": "2022-09-11T10:59:09.966282Z",
     "iopub.status.busy": "2022-09-11T10:59:09.965369Z",
     "iopub.status.idle": "2022-09-11T10:59:09.977601Z",
     "shell.execute_reply": "2022-09-11T10:59:09.976220Z"
    },
    "papermill": {
     "duration": 0.057347,
     "end_time": "2022-09-11T10:59:09.979882",
     "exception": false,
     "start_time": "2022-09-11T10:59:09.922535",
     "status": "completed"
    },
    "tags": []
   },
   "outputs": [
    {
     "data": {
      "text/html": [
       "<div>\n",
       "<style scoped>\n",
       "    .dataframe tbody tr th:only-of-type {\n",
       "        vertical-align: middle;\n",
       "    }\n",
       "\n",
       "    .dataframe tbody tr th {\n",
       "        vertical-align: top;\n",
       "    }\n",
       "\n",
       "    .dataframe thead th {\n",
       "        text-align: right;\n",
       "    }\n",
       "</style>\n",
       "<table border=\"1\" class=\"dataframe\">\n",
       "  <thead>\n",
       "    <tr style=\"text-align: right;\">\n",
       "      <th></th>\n",
       "      <th>coeficients</th>\n",
       "    </tr>\n",
       "  </thead>\n",
       "  <tbody>\n",
       "    <tr>\n",
       "      <th>wheelbase</th>\n",
       "      <td>-237.721399</td>\n",
       "    </tr>\n",
       "    <tr>\n",
       "      <th>carlength</th>\n",
       "      <td>2.797288</td>\n",
       "    </tr>\n",
       "    <tr>\n",
       "      <th>carwidth</th>\n",
       "      <td>1804.432479</td>\n",
       "    </tr>\n",
       "    <tr>\n",
       "      <th>curbweight</th>\n",
       "      <td>776.706582</td>\n",
       "    </tr>\n",
       "    <tr>\n",
       "      <th>enginesize</th>\n",
       "      <td>3467.848814</td>\n",
       "    </tr>\n",
       "    <tr>\n",
       "      <th>boreratio</th>\n",
       "      <td>-433.940330</td>\n",
       "    </tr>\n",
       "    <tr>\n",
       "      <th>horsepower</th>\n",
       "      <td>1988.702810</td>\n",
       "    </tr>\n",
       "    <tr>\n",
       "      <th>citympg</th>\n",
       "      <td>-518.090497</td>\n",
       "    </tr>\n",
       "    <tr>\n",
       "      <th>highwaympg</th>\n",
       "      <td>-612.200370</td>\n",
       "    </tr>\n",
       "    <tr>\n",
       "      <th>drivewheel</th>\n",
       "      <td>1383.021424</td>\n",
       "    </tr>\n",
       "    <tr>\n",
       "      <th>fuelsystem</th>\n",
       "      <td>-650.777960</td>\n",
       "    </tr>\n",
       "  </tbody>\n",
       "</table>\n",
       "</div>"
      ],
      "text/plain": [
       "            coeficients\n",
       "wheelbase   -237.721399\n",
       "carlength      2.797288\n",
       "carwidth    1804.432479\n",
       "curbweight   776.706582\n",
       "enginesize  3467.848814\n",
       "boreratio   -433.940330\n",
       "horsepower  1988.702810\n",
       "citympg     -518.090497\n",
       "highwaympg  -612.200370\n",
       "drivewheel  1383.021424\n",
       "fuelsystem  -650.777960"
      ]
     },
     "execution_count": 29,
     "metadata": {},
     "output_type": "execute_result"
    }
   ],
   "source": [
    "pd.DataFrame(reg.coef_,cars.columns[:-1],columns=['coeficients'])"
   ]
  },
  {
   "cell_type": "code",
   "execution_count": 30,
   "id": "4181a6f2",
   "metadata": {
    "execution": {
     "iopub.execute_input": "2022-09-11T10:59:10.041422Z",
     "iopub.status.busy": "2022-09-11T10:59:10.039902Z",
     "iopub.status.idle": "2022-09-11T10:59:10.046471Z",
     "shell.execute_reply": "2022-09-11T10:59:10.045140Z"
    },
    "papermill": {
     "duration": 0.040202,
     "end_time": "2022-09-11T10:59:10.049170",
     "exception": false,
     "start_time": "2022-09-11T10:59:10.008968",
     "status": "completed"
    },
    "tags": []
   },
   "outputs": [],
   "source": [
    "y_pred_1 = reg.predict(x_test)"
   ]
  },
  {
   "cell_type": "code",
   "execution_count": 31,
   "id": "6baa46ef",
   "metadata": {
    "execution": {
     "iopub.execute_input": "2022-09-11T10:59:10.111495Z",
     "iopub.status.busy": "2022-09-11T10:59:10.111088Z",
     "iopub.status.idle": "2022-09-11T10:59:10.117544Z",
     "shell.execute_reply": "2022-09-11T10:59:10.115883Z"
    },
    "papermill": {
     "duration": 0.040311,
     "end_time": "2022-09-11T10:59:10.120099",
     "exception": false,
     "start_time": "2022-09-11T10:59:10.079788",
     "status": "completed"
    },
    "tags": []
   },
   "outputs": [],
   "source": [
    "df_1 = pd.DataFrame({'y_test':y_test,'Y_pred':y_pred_1})"
   ]
  },
  {
   "cell_type": "code",
   "execution_count": 32,
   "id": "89e99795",
   "metadata": {
    "execution": {
     "iopub.execute_input": "2022-09-11T10:59:10.180360Z",
     "iopub.status.busy": "2022-09-11T10:59:10.179950Z",
     "iopub.status.idle": "2022-09-11T10:59:10.193882Z",
     "shell.execute_reply": "2022-09-11T10:59:10.192529Z"
    },
    "papermill": {
     "duration": 0.047765,
     "end_time": "2022-09-11T10:59:10.196498",
     "exception": false,
     "start_time": "2022-09-11T10:59:10.148733",
     "status": "completed"
    },
    "tags": []
   },
   "outputs": [
    {
     "data": {
      "text/html": [
       "<div>\n",
       "<style scoped>\n",
       "    .dataframe tbody tr th:only-of-type {\n",
       "        vertical-align: middle;\n",
       "    }\n",
       "\n",
       "    .dataframe tbody tr th {\n",
       "        vertical-align: top;\n",
       "    }\n",
       "\n",
       "    .dataframe thead th {\n",
       "        text-align: right;\n",
       "    }\n",
       "</style>\n",
       "<table border=\"1\" class=\"dataframe\">\n",
       "  <thead>\n",
       "    <tr style=\"text-align: right;\">\n",
       "      <th></th>\n",
       "      <th>y_test</th>\n",
       "      <th>Y_pred</th>\n",
       "    </tr>\n",
       "  </thead>\n",
       "  <tbody>\n",
       "    <tr>\n",
       "      <th>0</th>\n",
       "      <td>30760.000</td>\n",
       "      <td>24274.430865</td>\n",
       "    </tr>\n",
       "    <tr>\n",
       "      <th>1</th>\n",
       "      <td>17859.167</td>\n",
       "      <td>16295.393865</td>\n",
       "    </tr>\n",
       "    <tr>\n",
       "      <th>2</th>\n",
       "      <td>9549.000</td>\n",
       "      <td>11626.940703</td>\n",
       "    </tr>\n",
       "    <tr>\n",
       "      <th>3</th>\n",
       "      <td>11850.000</td>\n",
       "      <td>12969.844222</td>\n",
       "    </tr>\n",
       "    <tr>\n",
       "      <th>4</th>\n",
       "      <td>28248.000</td>\n",
       "      <td>22449.854465</td>\n",
       "    </tr>\n",
       "    <tr>\n",
       "      <th>5</th>\n",
       "      <td>7799.000</td>\n",
       "      <td>7805.288157</td>\n",
       "    </tr>\n",
       "    <tr>\n",
       "      <th>6</th>\n",
       "      <td>7788.000</td>\n",
       "      <td>7490.623333</td>\n",
       "    </tr>\n",
       "    <tr>\n",
       "      <th>7</th>\n",
       "      <td>9258.000</td>\n",
       "      <td>8585.152078</td>\n",
       "    </tr>\n",
       "    <tr>\n",
       "      <th>8</th>\n",
       "      <td>10198.000</td>\n",
       "      <td>10275.493060</td>\n",
       "    </tr>\n",
       "    <tr>\n",
       "      <th>9</th>\n",
       "      <td>7775.000</td>\n",
       "      <td>7366.226902</td>\n",
       "    </tr>\n",
       "  </tbody>\n",
       "</table>\n",
       "</div>"
      ],
      "text/plain": [
       "      y_test        Y_pred\n",
       "0  30760.000  24274.430865\n",
       "1  17859.167  16295.393865\n",
       "2   9549.000  11626.940703\n",
       "3  11850.000  12969.844222\n",
       "4  28248.000  22449.854465\n",
       "5   7799.000   7805.288157\n",
       "6   7788.000   7490.623333\n",
       "7   9258.000   8585.152078\n",
       "8  10198.000  10275.493060\n",
       "9   7775.000   7366.226902"
      ]
     },
     "execution_count": 32,
     "metadata": {},
     "output_type": "execute_result"
    }
   ],
   "source": [
    "df_1.head(10)"
   ]
  },
  {
   "cell_type": "code",
   "execution_count": 33,
   "id": "3ea1e925",
   "metadata": {
    "execution": {
     "iopub.execute_input": "2022-09-11T10:59:10.274961Z",
     "iopub.status.busy": "2022-09-11T10:59:10.274010Z",
     "iopub.status.idle": "2022-09-11T10:59:10.551402Z",
     "shell.execute_reply": "2022-09-11T10:59:10.550055Z"
    },
    "papermill": {
     "duration": 0.32337,
     "end_time": "2022-09-11T10:59:10.554500",
     "exception": false,
     "start_time": "2022-09-11T10:59:10.231130",
     "status": "completed"
    },
    "tags": []
   },
   "outputs": [
    {
     "data": {
      "image/png": "[encoded data removed]",
      "text/plain": [
       "<Figure size 720x576 with 1 Axes>"
      ]
     },
     "metadata": {
      "needs_background": "light"
     },
     "output_type": "display_data"
    }
   ],
   "source": [
    "plt.figure(figsize=(10,8))\n",
    "plt.plot(df_1[:50])\n",
    "plt.legend([\"Actualy\",\"predicted\"]);"
   ]
  },
  {
   "cell_type": "markdown",
   "id": "443156c4",
   "metadata": {
    "papermill": {
     "duration": 0.030033,
     "end_time": "2022-09-11T10:59:10.614824",
     "exception": false,
     "start_time": "2022-09-11T10:59:10.584791",
     "status": "completed"
    },
    "tags": []
   },
   "source": [
    "# Ridge Model\n"
   ]
  },
  {
   "cell_type": "code",
   "execution_count": 34,
   "id": "18ea1119",
   "metadata": {
    "execution": {
     "iopub.execute_input": "2022-09-11T10:59:10.677459Z",
     "iopub.status.busy": "2022-09-11T10:59:10.676648Z",
     "iopub.status.idle": "2022-09-11T10:59:10.692558Z",
     "shell.execute_reply": "2022-09-11T10:59:10.691378Z"
    },
    "papermill": {
     "duration": 0.050204,
     "end_time": "2022-09-11T10:59:10.695184",
     "exception": false,
     "start_time": "2022-09-11T10:59:10.644980",
     "status": "completed"
    },
    "tags": []
   },
   "outputs": [
    {
     "data": {
      "text/plain": [
       "Ridge(alpha=0.9)"
      ]
     },
     "execution_count": 34,
     "metadata": {},
     "output_type": "execute_result"
    }
   ],
   "source": [
    "from sklearn import linear_model\n",
    "rid = linear_model.Ridge(alpha=0.9)\n",
    "rid.fit(x_train,y_train)"
   ]
  },
  {
   "cell_type": "code",
   "execution_count": 35,
   "id": "d6d96885",
   "metadata": {
    "execution": {
     "iopub.execute_input": "2022-09-11T10:59:10.757877Z",
     "iopub.status.busy": "2022-09-11T10:59:10.757175Z",
     "iopub.status.idle": "2022-09-11T10:59:10.764268Z",
     "shell.execute_reply": "2022-09-11T10:59:10.763542Z"
    },
    "papermill": {
     "duration": 0.040825,
     "end_time": "2022-09-11T10:59:10.766459",
     "exception": false,
     "start_time": "2022-09-11T10:59:10.725634",
     "status": "completed"
    },
    "tags": []
   },
   "outputs": [
    {
     "data": {
      "text/plain": [
       "0.8313234367912665"
      ]
     },
     "execution_count": 35,
     "metadata": {},
     "output_type": "execute_result"
    }
   ],
   "source": [
    "rid.score(x_train,y_train)"
   ]
  },
  {
   "cell_type": "code",
   "execution_count": 36,
   "id": "ecabbeae",
   "metadata": {
    "execution": {
     "iopub.execute_input": "2022-09-11T10:59:10.830006Z",
     "iopub.status.busy": "2022-09-11T10:59:10.829285Z",
     "iopub.status.idle": "2022-09-11T10:59:10.837924Z",
     "shell.execute_reply": "2022-09-11T10:59:10.836727Z"
    },
    "papermill": {
     "duration": 0.043754,
     "end_time": "2022-09-11T10:59:10.840235",
     "exception": false,
     "start_time": "2022-09-11T10:59:10.796481",
     "status": "completed"
    },
    "tags": []
   },
   "outputs": [
    {
     "data": {
      "text/plain": [
       "0.7959485355363426"
      ]
     },
     "execution_count": 36,
     "metadata": {},
     "output_type": "execute_result"
    }
   ],
   "source": [
    "rid.score(x_test,y_test)"
   ]
  },
  {
   "cell_type": "code",
   "execution_count": 37,
   "id": "5ed310e8",
   "metadata": {
    "execution": {
     "iopub.execute_input": "2022-09-11T10:59:10.903080Z",
     "iopub.status.busy": "2022-09-11T10:59:10.902418Z",
     "iopub.status.idle": "2022-09-11T10:59:10.907991Z",
     "shell.execute_reply": "2022-09-11T10:59:10.907222Z"
    },
    "papermill": {
     "duration": 0.039926,
     "end_time": "2022-09-11T10:59:10.910109",
     "exception": false,
     "start_time": "2022-09-11T10:59:10.870183",
     "status": "completed"
    },
    "tags": []
   },
   "outputs": [
    {
     "data": {
      "text/plain": [
       "11259.73912019491"
      ]
     },
     "execution_count": 37,
     "metadata": {},
     "output_type": "execute_result"
    }
   ],
   "source": [
    "rid.intercept_"
   ]
  },
  {
   "cell_type": "code",
   "execution_count": 38,
   "id": "ecf83737",
   "metadata": {
    "execution": {
     "iopub.execute_input": "2022-09-11T10:59:10.975003Z",
     "iopub.status.busy": "2022-09-11T10:59:10.974311Z",
     "iopub.status.idle": "2022-09-11T10:59:10.980525Z",
     "shell.execute_reply": "2022-09-11T10:59:10.979730Z"
    },
    "papermill": {
     "duration": 0.040778,
     "end_time": "2022-09-11T10:59:10.982782",
     "exception": false,
     "start_time": "2022-09-11T10:59:10.942004",
     "status": "completed"
    },
    "tags": []
   },
   "outputs": [
    {
     "data": {
      "text/plain": [
       "array([-216.96935365,    4.57810559, 1766.86892565,  828.20780259,\n",
       "       3416.24764907, -407.89790612, 2004.96506342, -500.73970109,\n",
       "       -606.67678096, 1340.37311795, -606.01337478])"
      ]
     },
     "execution_count": 38,
     "metadata": {},
     "output_type": "execute_result"
    }
   ],
   "source": [
    "rid.coef_"
   ]
  },
  {
   "cell_type": "code",
   "execution_count": 39,
   "id": "fda02990",
   "metadata": {
    "execution": {
     "iopub.execute_input": "2022-09-11T10:59:11.047214Z",
     "iopub.status.busy": "2022-09-11T10:59:11.046786Z",
     "iopub.status.idle": "2022-09-11T10:59:11.058292Z",
     "shell.execute_reply": "2022-09-11T10:59:11.057073Z"
    },
    "papermill": {
     "duration": 0.046095,
     "end_time": "2022-09-11T10:59:11.060562",
     "exception": false,
     "start_time": "2022-09-11T10:59:11.014467",
     "status": "completed"
    },
    "tags": []
   },
   "outputs": [
    {
     "data": {
      "text/html": [
       "<div>\n",
       "<style scoped>\n",
       "    .dataframe tbody tr th:only-of-type {\n",
       "        vertical-align: middle;\n",
       "    }\n",
       "\n",
       "    .dataframe tbody tr th {\n",
       "        vertical-align: top;\n",
       "    }\n",
       "\n",
       "    .dataframe thead th {\n",
       "        text-align: right;\n",
       "    }\n",
       "</style>\n",
       "<table border=\"1\" class=\"dataframe\">\n",
       "  <thead>\n",
       "    <tr style=\"text-align: right;\">\n",
       "      <th></th>\n",
       "      <th>coeficients</th>\n",
       "    </tr>\n",
       "  </thead>\n",
       "  <tbody>\n",
       "    <tr>\n",
       "      <th>wheelbase</th>\n",
       "      <td>-216.969354</td>\n",
       "    </tr>\n",
       "    <tr>\n",
       "      <th>carlength</th>\n",
       "      <td>4.578106</td>\n",
       "    </tr>\n",
       "    <tr>\n",
       "      <th>carwidth</th>\n",
       "      <td>1766.868926</td>\n",
       "    </tr>\n",
       "    <tr>\n",
       "      <th>curbweight</th>\n",
       "      <td>828.207803</td>\n",
       "    </tr>\n",
       "    <tr>\n",
       "      <th>enginesize</th>\n",
       "      <td>3416.247649</td>\n",
       "    </tr>\n",
       "    <tr>\n",
       "      <th>boreratio</th>\n",
       "      <td>-407.897906</td>\n",
       "    </tr>\n",
       "    <tr>\n",
       "      <th>horsepower</th>\n",
       "      <td>2004.965063</td>\n",
       "    </tr>\n",
       "    <tr>\n",
       "      <th>citympg</th>\n",
       "      <td>-500.739701</td>\n",
       "    </tr>\n",
       "    <tr>\n",
       "      <th>highwaympg</th>\n",
       "      <td>-606.676781</td>\n",
       "    </tr>\n",
       "    <tr>\n",
       "      <th>drivewheel</th>\n",
       "      <td>1340.373118</td>\n",
       "    </tr>\n",
       "    <tr>\n",
       "      <th>fuelsystem</th>\n",
       "      <td>-606.013375</td>\n",
       "    </tr>\n",
       "  </tbody>\n",
       "</table>\n",
       "</div>"
      ],
      "text/plain": [
       "            coeficients\n",
       "wheelbase   -216.969354\n",
       "carlength      4.578106\n",
       "carwidth    1766.868926\n",
       "curbweight   828.207803\n",
       "enginesize  3416.247649\n",
       "boreratio   -407.897906\n",
       "horsepower  2004.965063\n",
       "citympg     -500.739701\n",
       "highwaympg  -606.676781\n",
       "drivewheel  1340.373118\n",
       "fuelsystem  -606.013375"
      ]
     },
     "execution_count": 39,
     "metadata": {},
     "output_type": "execute_result"
    }
   ],
   "source": [
    "pd.DataFrame(rid.coef_,cars.columns[:-1],columns=['coeficients'])"
   ]
  },
  {
   "cell_type": "code",
   "execution_count": 40,
   "id": "2f21d560",
   "metadata": {
    "execution": {
     "iopub.execute_input": "2022-09-11T10:59:11.126540Z",
     "iopub.status.busy": "2022-09-11T10:59:11.126072Z",
     "iopub.status.idle": "2022-09-11T10:59:11.130810Z",
     "shell.execute_reply": "2022-09-11T10:59:11.129917Z"
    },
    "papermill": {
     "duration": 0.040165,
     "end_time": "2022-09-11T10:59:11.132867",
     "exception": false,
     "start_time": "2022-09-11T10:59:11.092702",
     "status": "completed"
    },
    "tags": []
   },
   "outputs": [],
   "source": [
    "y_pred_2 = rid.predict(x_test)"
   ]
  },
  {
   "cell_type": "code",
   "execution_count": 41,
   "id": "045cfbfa",
   "metadata": {
    "execution": {
     "iopub.execute_input": "2022-09-11T10:59:11.197241Z",
     "iopub.status.busy": "2022-09-11T10:59:11.196574Z",
     "iopub.status.idle": "2022-09-11T10:59:11.201510Z",
     "shell.execute_reply": "2022-09-11T10:59:11.200672Z"
    },
    "papermill": {
     "duration": 0.040271,
     "end_time": "2022-09-11T10:59:11.204005",
     "exception": false,
     "start_time": "2022-09-11T10:59:11.163734",
     "status": "completed"
    },
    "tags": []
   },
   "outputs": [],
   "source": [
    "df_2 = pd.DataFrame({'y_test':y_test,'Y_pred':y_pred_2})"
   ]
  },
  {
   "cell_type": "code",
   "execution_count": 42,
   "id": "207f06a3",
   "metadata": {
    "execution": {
     "iopub.execute_input": "2022-09-11T10:59:11.268055Z",
     "iopub.status.busy": "2022-09-11T10:59:11.267625Z",
     "iopub.status.idle": "2022-09-11T10:59:11.278458Z",
     "shell.execute_reply": "2022-09-11T10:59:11.277576Z"
    },
    "papermill": {
     "duration": 0.045193,
     "end_time": "2022-09-11T10:59:11.280559",
     "exception": false,
     "start_time": "2022-09-11T10:59:11.235366",
     "status": "completed"
    },
    "tags": []
   },
   "outputs": [
    {
     "data": {
      "text/html": [
       "<div>\n",
       "<style scoped>\n",
       "    .dataframe tbody tr th:only-of-type {\n",
       "        vertical-align: middle;\n",
       "    }\n",
       "\n",
       "    .dataframe tbody tr th {\n",
       "        vertical-align: top;\n",
       "    }\n",
       "\n",
       "    .dataframe thead th {\n",
       "        text-align: right;\n",
       "    }\n",
       "</style>\n",
       "<table border=\"1\" class=\"dataframe\">\n",
       "  <thead>\n",
       "    <tr style=\"text-align: right;\">\n",
       "      <th></th>\n",
       "      <th>y_test</th>\n",
       "      <th>Y_pred</th>\n",
       "    </tr>\n",
       "  </thead>\n",
       "  <tbody>\n",
       "    <tr>\n",
       "      <th>0</th>\n",
       "      <td>30760.000</td>\n",
       "      <td>24262.166752</td>\n",
       "    </tr>\n",
       "    <tr>\n",
       "      <th>1</th>\n",
       "      <td>17859.167</td>\n",
       "      <td>16378.562523</td>\n",
       "    </tr>\n",
       "    <tr>\n",
       "      <th>2</th>\n",
       "      <td>9549.000</td>\n",
       "      <td>11625.992179</td>\n",
       "    </tr>\n",
       "    <tr>\n",
       "      <th>3</th>\n",
       "      <td>11850.000</td>\n",
       "      <td>13030.053828</td>\n",
       "    </tr>\n",
       "    <tr>\n",
       "      <th>4</th>\n",
       "      <td>28248.000</td>\n",
       "      <td>22440.571626</td>\n",
       "    </tr>\n",
       "    <tr>\n",
       "      <th>5</th>\n",
       "      <td>7799.000</td>\n",
       "      <td>7807.991336</td>\n",
       "    </tr>\n",
       "    <tr>\n",
       "      <th>6</th>\n",
       "      <td>7788.000</td>\n",
       "      <td>7532.152452</td>\n",
       "    </tr>\n",
       "    <tr>\n",
       "      <th>7</th>\n",
       "      <td>9258.000</td>\n",
       "      <td>8586.493228</td>\n",
       "    </tr>\n",
       "    <tr>\n",
       "      <th>8</th>\n",
       "      <td>10198.000</td>\n",
       "      <td>10349.490759</td>\n",
       "    </tr>\n",
       "    <tr>\n",
       "      <th>9</th>\n",
       "      <td>7775.000</td>\n",
       "      <td>7393.542583</td>\n",
       "    </tr>\n",
       "  </tbody>\n",
       "</table>\n",
       "</div>"
      ],
      "text/plain": [
       "      y_test        Y_pred\n",
       "0  30760.000  24262.166752\n",
       "1  17859.167  16378.562523\n",
       "2   9549.000  11625.992179\n",
       "3  11850.000  13030.053828\n",
       "4  28248.000  22440.571626\n",
       "5   7799.000   7807.991336\n",
       "6   7788.000   7532.152452\n",
       "7   9258.000   8586.493228\n",
       "8  10198.000  10349.490759\n",
       "9   7775.000   7393.542583"
      ]
     },
     "execution_count": 42,
     "metadata": {},
     "output_type": "execute_result"
    }
   ],
   "source": [
    "df_2.head(10)"
   ]
  },
  {
   "cell_type": "code",
   "execution_count": 43,
   "id": "b7cfb0c4",
   "metadata": {
    "execution": {
     "iopub.execute_input": "2022-09-11T10:59:11.345323Z",
     "iopub.status.busy": "2022-09-11T10:59:11.344664Z",
     "iopub.status.idle": "2022-09-11T10:59:11.606170Z",
     "shell.execute_reply": "2022-09-11T10:59:11.604619Z"
    },
    "papermill": {
     "duration": 0.297188,
     "end_time": "2022-09-11T10:59:11.608928",
     "exception": false,
     "start_time": "2022-09-11T10:59:11.311740",
     "status": "completed"
    },
    "tags": []
   },
   "outputs": [
    {
     "data": {
      "image/png": "[encoded data removed]",
      "text/plain": [
       "<Figure size 720x576 with 1 Axes>"
      ]
     },
     "metadata": {
      "needs_background": "light"
     },
     "output_type": "display_data"
    }
   ],
   "source": [
    "plt.figure(figsize=(10,8))\n",
    "plt.plot(df_2[:50])\n",
    "plt.legend([\"Actualy\",\"predicted\"]);"
   ]
  },
  {
   "cell_type": "markdown",
   "id": "15de070c",
   "metadata": {
    "papermill": {
     "duration": 0.033727,
     "end_time": "2022-09-11T10:59:11.675932",
     "exception": false,
     "start_time": "2022-09-11T10:59:11.642205",
     "status": "completed"
    },
    "tags": []
   },
   "source": [
    "# Lasso Model"
   ]
  },
  {
   "cell_type": "code",
   "execution_count": 44,
   "id": "f667b601",
   "metadata": {
    "execution": {
     "iopub.execute_input": "2022-09-11T10:59:11.745631Z",
     "iopub.status.busy": "2022-09-11T10:59:11.745135Z",
     "iopub.status.idle": "2022-09-11T10:59:11.754682Z",
     "shell.execute_reply": "2022-09-11T10:59:11.753911Z"
    },
    "papermill": {
     "duration": 0.047934,
     "end_time": "2022-09-11T10:59:11.756862",
     "exception": false,
     "start_time": "2022-09-11T10:59:11.708928",
     "status": "completed"
    },
    "tags": []
   },
   "outputs": [
    {
     "data": {
      "text/plain": [
       "Lasso(alpha=0.6)"
      ]
     },
     "execution_count": 44,
     "metadata": {},
     "output_type": "execute_result"
    }
   ],
   "source": [
    "from sklearn import linear_model\n",
    "lass = linear_model.Lasso(alpha=0.6)\n",
    "lass.fit(x_train,y_train)"
   ]
  },
  {
   "cell_type": "code",
   "execution_count": 45,
   "id": "cbbcc9dd",
   "metadata": {
    "execution": {
     "iopub.execute_input": "2022-09-11T10:59:11.825628Z",
     "iopub.status.busy": "2022-09-11T10:59:11.824770Z",
     "iopub.status.idle": "2022-09-11T10:59:11.832810Z",
     "shell.execute_reply": "2022-09-11T10:59:11.831718Z"
    },
    "papermill": {
     "duration": 0.045795,
     "end_time": "2022-09-11T10:59:11.835874",
     "exception": false,
     "start_time": "2022-09-11T10:59:11.790079",
     "status": "completed"
    },
    "tags": []
   },
   "outputs": [
    {
     "data": {
      "text/plain": [
       "0.8313495176385546"
      ]
     },
     "execution_count": 45,
     "metadata": {},
     "output_type": "execute_result"
    }
   ],
   "source": [
    "lass.score(x_train,y_train)"
   ]
  },
  {
   "cell_type": "code",
   "execution_count": 46,
   "id": "27f6eb6c",
   "metadata": {
    "execution": {
     "iopub.execute_input": "2022-09-11T10:59:11.905463Z",
     "iopub.status.busy": "2022-09-11T10:59:11.904122Z",
     "iopub.status.idle": "2022-09-11T10:59:11.912020Z",
     "shell.execute_reply": "2022-09-11T10:59:11.911149Z"
    },
    "papermill": {
     "duration": 0.04499,
     "end_time": "2022-09-11T10:59:11.914201",
     "exception": false,
     "start_time": "2022-09-11T10:59:11.869211",
     "status": "completed"
    },
    "tags": []
   },
   "outputs": [
    {
     "data": {
      "text/plain": [
       "0.7967360444038143"
      ]
     },
     "execution_count": 46,
     "metadata": {},
     "output_type": "execute_result"
    }
   ],
   "source": [
    "lass.score(x_test,y_test)"
   ]
  },
  {
   "cell_type": "code",
   "execution_count": 47,
   "id": "6883cd72",
   "metadata": {
    "execution": {
     "iopub.execute_input": "2022-09-11T10:59:11.985466Z",
     "iopub.status.busy": "2022-09-11T10:59:11.984757Z",
     "iopub.status.idle": "2022-09-11T10:59:11.990786Z",
     "shell.execute_reply": "2022-09-11T10:59:11.989728Z"
    },
    "papermill": {
     "duration": 0.044736,
     "end_time": "2022-09-11T10:59:11.993315",
     "exception": false,
     "start_time": "2022-09-11T10:59:11.948579",
     "status": "completed"
    },
    "tags": []
   },
   "outputs": [
    {
     "data": {
      "text/plain": [
       "11236.828029666754"
      ]
     },
     "execution_count": 47,
     "metadata": {},
     "output_type": "execute_result"
    }
   ],
   "source": [
    "lass.intercept_"
   ]
  },
  {
   "cell_type": "code",
   "execution_count": 48,
   "id": "1b03de19",
   "metadata": {
    "execution": {
     "iopub.execute_input": "2022-09-11T10:59:12.063250Z",
     "iopub.status.busy": "2022-09-11T10:59:12.062821Z",
     "iopub.status.idle": "2022-09-11T10:59:12.068939Z",
     "shell.execute_reply": "2022-09-11T10:59:12.068063Z"
    },
    "papermill": {
     "duration": 0.044373,
     "end_time": "2022-09-11T10:59:12.071318",
     "exception": false,
     "start_time": "2022-09-11T10:59:12.026945",
     "status": "completed"
    },
    "tags": []
   },
   "outputs": [
    {
     "data": {
      "text/plain": [
       "array([-230.15244747,    0.        , 1801.29662187,  767.98757895,\n",
       "       3469.85670269, -430.08927678, 1990.79537959, -513.62632363,\n",
       "       -612.81269722, 1378.58182592, -642.4868575 ])"
      ]
     },
     "execution_count": 48,
     "metadata": {},
     "output_type": "execute_result"
    }
   ],
   "source": [
    "lass.coef_"
   ]
  },
  {
   "cell_type": "code",
   "execution_count": 49,
   "id": "e19dcf42",
   "metadata": {
    "execution": {
     "iopub.execute_input": "2022-09-11T10:59:12.141616Z",
     "iopub.status.busy": "2022-09-11T10:59:12.141146Z",
     "iopub.status.idle": "2022-09-11T10:59:12.152749Z",
     "shell.execute_reply": "2022-09-11T10:59:12.151143Z"
    },
    "papermill": {
     "duration": 0.049604,
     "end_time": "2022-09-11T10:59:12.155249",
     "exception": false,
     "start_time": "2022-09-11T10:59:12.105645",
     "status": "completed"
    },
    "tags": []
   },
   "outputs": [
    {
     "data": {
      "text/html": [
       "<div>\n",
       "<style scoped>\n",
       "    .dataframe tbody tr th:only-of-type {\n",
       "        vertical-align: middle;\n",
       "    }\n",
       "\n",
       "    .dataframe tbody tr th {\n",
       "        vertical-align: top;\n",
       "    }\n",
       "\n",
       "    .dataframe thead th {\n",
       "        text-align: right;\n",
       "    }\n",
       "</style>\n",
       "<table border=\"1\" class=\"dataframe\">\n",
       "  <thead>\n",
       "    <tr style=\"text-align: right;\">\n",
       "      <th></th>\n",
       "      <th>coeficients</th>\n",
       "    </tr>\n",
       "  </thead>\n",
       "  <tbody>\n",
       "    <tr>\n",
       "      <th>wheelbase</th>\n",
       "      <td>-230.152447</td>\n",
       "    </tr>\n",
       "    <tr>\n",
       "      <th>carlength</th>\n",
       "      <td>0.000000</td>\n",
       "    </tr>\n",
       "    <tr>\n",
       "      <th>carwidth</th>\n",
       "      <td>1801.296622</td>\n",
       "    </tr>\n",
       "    <tr>\n",
       "      <th>curbweight</th>\n",
       "      <td>767.987579</td>\n",
       "    </tr>\n",
       "    <tr>\n",
       "      <th>enginesize</th>\n",
       "      <td>3469.856703</td>\n",
       "    </tr>\n",
       "    <tr>\n",
       "      <th>boreratio</th>\n",
       "      <td>-430.089277</td>\n",
       "    </tr>\n",
       "    <tr>\n",
       "      <th>horsepower</th>\n",
       "      <td>1990.795380</td>\n",
       "    </tr>\n",
       "    <tr>\n",
       "      <th>citympg</th>\n",
       "      <td>-513.626324</td>\n",
       "    </tr>\n",
       "    <tr>\n",
       "      <th>highwaympg</th>\n",
       "      <td>-612.812697</td>\n",
       "    </tr>\n",
       "    <tr>\n",
       "      <th>drivewheel</th>\n",
       "      <td>1378.581826</td>\n",
       "    </tr>\n",
       "    <tr>\n",
       "      <th>fuelsystem</th>\n",
       "      <td>-642.486857</td>\n",
       "    </tr>\n",
       "  </tbody>\n",
       "</table>\n",
       "</div>"
      ],
      "text/plain": [
       "            coeficients\n",
       "wheelbase   -230.152447\n",
       "carlength      0.000000\n",
       "carwidth    1801.296622\n",
       "curbweight   767.987579\n",
       "enginesize  3469.856703\n",
       "boreratio   -430.089277\n",
       "horsepower  1990.795380\n",
       "citympg     -513.626324\n",
       "highwaympg  -612.812697\n",
       "drivewheel  1378.581826\n",
       "fuelsystem  -642.486857"
      ]
     },
     "execution_count": 49,
     "metadata": {},
     "output_type": "execute_result"
    }
   ],
   "source": [
    "pd.DataFrame(lass.coef_,cars.columns[:-1],columns=['coeficients'])"
   ]
  },
  {
   "cell_type": "code",
   "execution_count": 50,
   "id": "f7e7ce05",
   "metadata": {
    "execution": {
     "iopub.execute_input": "2022-09-11T10:59:12.223303Z",
     "iopub.status.busy": "2022-09-11T10:59:12.222527Z",
     "iopub.status.idle": "2022-09-11T10:59:12.227891Z",
     "shell.execute_reply": "2022-09-11T10:59:12.227056Z"
    },
    "papermill": {
     "duration": 0.041522,
     "end_time": "2022-09-11T10:59:12.230221",
     "exception": false,
     "start_time": "2022-09-11T10:59:12.188699",
     "status": "completed"
    },
    "tags": []
   },
   "outputs": [],
   "source": [
    "y_pred_3 = lass.predict(x_test)"
   ]
  },
  {
   "cell_type": "code",
   "execution_count": 51,
   "id": "fc82c723",
   "metadata": {
    "execution": {
     "iopub.execute_input": "2022-09-11T10:59:12.297771Z",
     "iopub.status.busy": "2022-09-11T10:59:12.297407Z",
     "iopub.status.idle": "2022-09-11T10:59:12.302962Z",
     "shell.execute_reply": "2022-09-11T10:59:12.301995Z"
    },
    "papermill": {
     "duration": 0.041471,
     "end_time": "2022-09-11T10:59:12.305189",
     "exception": false,
     "start_time": "2022-09-11T10:59:12.263718",
     "status": "completed"
    },
    "tags": []
   },
   "outputs": [],
   "source": [
    "df_3 = pd.DataFrame({'y_test':y_test,'Y_pred':y_pred_3})"
   ]
  },
  {
   "cell_type": "code",
   "execution_count": 52,
   "id": "3f2ef87f",
   "metadata": {
    "execution": {
     "iopub.execute_input": "2022-09-11T10:59:12.372913Z",
     "iopub.status.busy": "2022-09-11T10:59:12.371804Z",
     "iopub.status.idle": "2022-09-11T10:59:12.384157Z",
     "shell.execute_reply": "2022-09-11T10:59:12.383029Z"
    },
    "papermill": {
     "duration": 0.049059,
     "end_time": "2022-09-11T10:59:12.386431",
     "exception": false,
     "start_time": "2022-09-11T10:59:12.337372",
     "status": "completed"
    },
    "tags": []
   },
   "outputs": [
    {
     "data": {
      "text/html": [
       "<div>\n",
       "<style scoped>\n",
       "    .dataframe tbody tr th:only-of-type {\n",
       "        vertical-align: middle;\n",
       "    }\n",
       "\n",
       "    .dataframe tbody tr th {\n",
       "        vertical-align: top;\n",
       "    }\n",
       "\n",
       "    .dataframe thead th {\n",
       "        text-align: right;\n",
       "    }\n",
       "</style>\n",
       "<table border=\"1\" class=\"dataframe\">\n",
       "  <thead>\n",
       "    <tr style=\"text-align: right;\">\n",
       "      <th></th>\n",
       "      <th>y_test</th>\n",
       "      <th>Y_pred</th>\n",
       "    </tr>\n",
       "  </thead>\n",
       "  <tbody>\n",
       "    <tr>\n",
       "      <th>0</th>\n",
       "      <td>30760.000</td>\n",
       "      <td>24277.241566</td>\n",
       "    </tr>\n",
       "    <tr>\n",
       "      <th>1</th>\n",
       "      <td>17859.167</td>\n",
       "      <td>16298.047245</td>\n",
       "    </tr>\n",
       "    <tr>\n",
       "      <th>2</th>\n",
       "      <td>9549.000</td>\n",
       "      <td>11628.887264</td>\n",
       "    </tr>\n",
       "    <tr>\n",
       "      <th>3</th>\n",
       "      <td>11850.000</td>\n",
       "      <td>12974.617607</td>\n",
       "    </tr>\n",
       "    <tr>\n",
       "      <th>4</th>\n",
       "      <td>28248.000</td>\n",
       "      <td>22443.656377</td>\n",
       "    </tr>\n",
       "    <tr>\n",
       "      <th>5</th>\n",
       "      <td>7799.000</td>\n",
       "      <td>7808.346402</td>\n",
       "    </tr>\n",
       "    <tr>\n",
       "      <th>6</th>\n",
       "      <td>7788.000</td>\n",
       "      <td>7498.812744</td>\n",
       "    </tr>\n",
       "    <tr>\n",
       "      <th>7</th>\n",
       "      <td>9258.000</td>\n",
       "      <td>8586.761758</td>\n",
       "    </tr>\n",
       "    <tr>\n",
       "      <th>8</th>\n",
       "      <td>10198.000</td>\n",
       "      <td>10284.849555</td>\n",
       "    </tr>\n",
       "    <tr>\n",
       "      <th>9</th>\n",
       "      <td>7775.000</td>\n",
       "      <td>7370.805858</td>\n",
       "    </tr>\n",
       "  </tbody>\n",
       "</table>\n",
       "</div>"
      ],
      "text/plain": [
       "      y_test        Y_pred\n",
       "0  30760.000  24277.241566\n",
       "1  17859.167  16298.047245\n",
       "2   9549.000  11628.887264\n",
       "3  11850.000  12974.617607\n",
       "4  28248.000  22443.656377\n",
       "5   7799.000   7808.346402\n",
       "6   7788.000   7498.812744\n",
       "7   9258.000   8586.761758\n",
       "8  10198.000  10284.849555\n",
       "9   7775.000   7370.805858"
      ]
     },
     "execution_count": 52,
     "metadata": {},
     "output_type": "execute_result"
    }
   ],
   "source": [
    "df_3.head(10)"
   ]
  },
  {
   "cell_type": "code",
   "execution_count": 53,
   "id": "8484d1da",
   "metadata": {
    "execution": {
     "iopub.execute_input": "2022-09-11T10:59:12.454678Z",
     "iopub.status.busy": "2022-09-11T10:59:12.454016Z",
     "iopub.status.idle": "2022-09-11T10:59:12.729069Z",
     "shell.execute_reply": "2022-09-11T10:59:12.728024Z"
    },
    "papermill": {
     "duration": 0.312713,
     "end_time": "2022-09-11T10:59:12.731361",
     "exception": false,
     "start_time": "2022-09-11T10:59:12.418648",
     "status": "completed"
    },
    "tags": []
   },
   "outputs": [
    {
     "data": {
      "image/png": "[encoded data removed]",
      "text/plain": [
       "<Figure size 720x576 with 1 Axes>"
      ]
     },
     "metadata": {
      "needs_background": "light"
     },
     "output_type": "display_data"
    }
   ],
   "source": [
    "plt.figure(figsize=(10,8))\n",
    "plt.plot(df_3[:50])\n",
    "plt.legend([\"Actualy\",\"predicted\"]);"
   ]
  },
  {
   "cell_type": "markdown",
   "id": "ec0dc794",
   "metadata": {
    "papermill": {
     "duration": 0.034555,
     "end_time": "2022-09-11T10:59:12.799828",
     "exception": false,
     "start_time": "2022-09-11T10:59:12.765273",
     "status": "completed"
    },
    "tags": []
   },
   "source": [
    "# Evaluating models\n"
   ]
  },
  {
   "cell_type": "markdown",
   "id": "6d023782",
   "metadata": {
    "papermill": {
     "duration": 0.034671,
     "end_time": "2022-09-11T10:59:12.869382",
     "exception": false,
     "start_time": "2022-09-11T10:59:12.834711",
     "status": "completed"
    },
    "tags": []
   },
   "source": [
    "### Linear reg evaluation"
   ]
  },
  {
   "cell_type": "code",
   "execution_count": 54,
   "id": "16a986e8",
   "metadata": {
    "execution": {
     "iopub.execute_input": "2022-09-11T10:59:12.942642Z",
     "iopub.status.busy": "2022-09-11T10:59:12.942150Z",
     "iopub.status.idle": "2022-09-11T10:59:12.947157Z",
     "shell.execute_reply": "2022-09-11T10:59:12.945920Z"
    },
    "papermill": {
     "duration": 0.044908,
     "end_time": "2022-09-11T10:59:12.949709",
     "exception": false,
     "start_time": "2022-09-11T10:59:12.904801",
     "status": "completed"
    },
    "tags": []
   },
   "outputs": [],
   "source": [
    "#import r2_score \n",
    "from sklearn.metrics import r2_score"
   ]
  },
  {
   "cell_type": "code",
   "execution_count": 55,
   "id": "a33e345c",
   "metadata": {
    "execution": {
     "iopub.execute_input": "2022-09-11T10:59:13.025331Z",
     "iopub.status.busy": "2022-09-11T10:59:13.024451Z",
     "iopub.status.idle": "2022-09-11T10:59:13.030891Z",
     "shell.execute_reply": "2022-09-11T10:59:13.029558Z"
    },
    "papermill": {
     "duration": 0.047479,
     "end_time": "2022-09-11T10:59:13.033559",
     "exception": false,
     "start_time": "2022-09-11T10:59:12.986080",
     "status": "completed"
    },
    "tags": []
   },
   "outputs": [],
   "source": [
    "# calculate r2_score for the model\n",
    "reg_score = r2_score(y_test,y_pred_1)"
   ]
  },
  {
   "cell_type": "code",
   "execution_count": 56,
   "id": "3dcc204a",
   "metadata": {
    "execution": {
     "iopub.execute_input": "2022-09-11T10:59:13.120267Z",
     "iopub.status.busy": "2022-09-11T10:59:13.118064Z",
     "iopub.status.idle": "2022-09-11T10:59:13.130509Z",
     "shell.execute_reply": "2022-09-11T10:59:13.129469Z"
    },
    "papermill": {
     "duration": 0.063236,
     "end_time": "2022-09-11T10:59:13.133696",
     "exception": false,
     "start_time": "2022-09-11T10:59:13.070460",
     "status": "completed"
    },
    "tags": []
   },
   "outputs": [
    {
     "data": {
      "text/plain": [
       "0.7809257247272007"
      ]
     },
     "execution_count": 56,
     "metadata": {},
     "output_type": "execute_result"
    }
   ],
   "source": [
    "# calculate adjust r2_score for the model\n",
    "p = len(x_train[0])\n",
    "n = len(y_train)\n",
    "adj_r2 = 1 - (1-reg_score)*(n-1)/(n-p-1)\n",
    "adj_r2"
   ]
  },
  {
   "cell_type": "code",
   "execution_count": 57,
   "id": "c18bd8e1",
   "metadata": {
    "execution": {
     "iopub.execute_input": "2022-09-11T10:59:13.220195Z",
     "iopub.status.busy": "2022-09-11T10:59:13.218412Z",
     "iopub.status.idle": "2022-09-11T10:59:13.227468Z",
     "shell.execute_reply": "2022-09-11T10:59:13.226225Z"
    },
    "papermill": {
     "duration": 0.057852,
     "end_time": "2022-09-11T10:59:13.229940",
     "exception": false,
     "start_time": "2022-09-11T10:59:13.172088",
     "status": "completed"
    },
    "tags": []
   },
   "outputs": [
    {
     "data": {
      "text/plain": [
       "True"
      ]
     },
     "execution_count": 57,
     "metadata": {},
     "output_type": "execute_result"
    }
   ],
   "source": [
    "# check that adjust r2_score is less than r2_score for the model\n",
    "adj_r2 < reg_score"
   ]
  },
  {
   "cell_type": "code",
   "execution_count": 58,
   "id": "a76f0d89",
   "metadata": {
    "execution": {
     "iopub.execute_input": "2022-09-11T10:59:13.312085Z",
     "iopub.status.busy": "2022-09-11T10:59:13.303755Z",
     "iopub.status.idle": "2022-09-11T10:59:13.317654Z",
     "shell.execute_reply": "2022-09-11T10:59:13.316425Z"
    },
    "papermill": {
     "duration": 0.055074,
     "end_time": "2022-09-11T10:59:13.320485",
     "exception": false,
     "start_time": "2022-09-11T10:59:13.265411",
     "status": "completed"
    },
    "tags": []
   },
   "outputs": [],
   "source": [
    "# import mean_absolute_error and mean_absolute_percentage_error and mean_squared_error\n",
    "from sklearn.metrics import mean_absolute_error,mean_absolute_percentage_error,mean_squared_error"
   ]
  },
  {
   "cell_type": "code",
   "execution_count": 59,
   "id": "102127c5",
   "metadata": {
    "execution": {
     "iopub.execute_input": "2022-09-11T10:59:13.393116Z",
     "iopub.status.busy": "2022-09-11T10:59:13.392011Z",
     "iopub.status.idle": "2022-09-11T10:59:13.401607Z",
     "shell.execute_reply": "2022-09-11T10:59:13.400419Z"
    },
    "papermill": {
     "duration": 0.048805,
     "end_time": "2022-09-11T10:59:13.403862",
     "exception": false,
     "start_time": "2022-09-11T10:59:13.355057",
     "status": "completed"
    },
    "tags": []
   },
   "outputs": [
    {
     "data": {
      "text/plain": [
       "13749785.691257391"
      ]
     },
     "execution_count": 59,
     "metadata": {},
     "output_type": "execute_result"
    }
   ],
   "source": [
    "# calculate mean_squared_error\n",
    "mse = mean_squared_error(y_test , y_pred_1)\n",
    "mse"
   ]
  },
  {
   "cell_type": "code",
   "execution_count": 60,
   "id": "5f76b559",
   "metadata": {
    "execution": {
     "iopub.execute_input": "2022-09-11T10:59:13.486951Z",
     "iopub.status.busy": "2022-09-11T10:59:13.485587Z",
     "iopub.status.idle": "2022-09-11T10:59:13.498008Z",
     "shell.execute_reply": "2022-09-11T10:59:13.496922Z"
    },
    "papermill": {
     "duration": 0.06304,
     "end_time": "2022-09-11T10:59:13.501094",
     "exception": false,
     "start_time": "2022-09-11T10:59:13.438054",
     "status": "completed"
    },
    "tags": []
   },
   "outputs": [
    {
     "data": {
      "text/plain": [
       "2484.5027786707374"
      ]
     },
     "execution_count": 60,
     "metadata": {},
     "output_type": "execute_result"
    }
   ],
   "source": [
    "# calculate mean_absolute_error\n",
    "mae = mean_absolute_error(y_test , y_pred_1)\n",
    "mae"
   ]
  },
  {
   "cell_type": "code",
   "execution_count": 61,
   "id": "270524a2",
   "metadata": {
    "execution": {
     "iopub.execute_input": "2022-09-11T10:59:13.587573Z",
     "iopub.status.busy": "2022-09-11T10:59:13.586791Z",
     "iopub.status.idle": "2022-09-11T10:59:13.594800Z",
     "shell.execute_reply": "2022-09-11T10:59:13.593750Z"
    },
    "papermill": {
     "duration": 0.046651,
     "end_time": "2022-09-11T10:59:13.597104",
     "exception": false,
     "start_time": "2022-09-11T10:59:13.550453",
     "status": "completed"
    },
    "tags": []
   },
   "outputs": [
    {
     "data": {
      "text/plain": [
       "0.18674370711015695"
      ]
     },
     "execution_count": 61,
     "metadata": {},
     "output_type": "execute_result"
    }
   ],
   "source": [
    "# calculate mean_absolute_percentage_error\n",
    "mape = mean_absolute_percentage_error(y_test , y_pred_1)\n",
    "mape"
   ]
  },
  {
   "cell_type": "code",
   "execution_count": 62,
   "id": "bfab1cea",
   "metadata": {
    "execution": {
     "iopub.execute_input": "2022-09-11T10:59:13.669090Z",
     "iopub.status.busy": "2022-09-11T10:59:13.668041Z",
     "iopub.status.idle": "2022-09-11T10:59:13.677191Z",
     "shell.execute_reply": "2022-09-11T10:59:13.676286Z"
    },
    "papermill": {
     "duration": 0.047802,
     "end_time": "2022-09-11T10:59:13.679488",
     "exception": false,
     "start_time": "2022-09-11T10:59:13.631686",
     "status": "completed"
    },
    "tags": []
   },
   "outputs": [
    {
     "data": {
      "text/plain": [
       "3708.0703460502727"
      ]
     },
     "execution_count": 62,
     "metadata": {},
     "output_type": "execute_result"
    }
   ],
   "source": [
    "# calculate root_mean_squared_error\n",
    "reg_mse = mean_squared_error(y_test , y_pred_1)\n",
    "reg_rmse = np.sqrt(reg_mse)\n",
    "reg_rmse"
   ]
  },
  {
   "cell_type": "markdown",
   "id": "4b8b15b1",
   "metadata": {
    "papermill": {
     "duration": 0.034128,
     "end_time": "2022-09-11T10:59:13.747884",
     "exception": false,
     "start_time": "2022-09-11T10:59:13.713756",
     "status": "completed"
    },
    "tags": []
   },
   "source": [
    "### Ridge Evaluation"
   ]
  },
  {
   "cell_type": "code",
   "execution_count": 63,
   "id": "1e711308",
   "metadata": {
    "execution": {
     "iopub.execute_input": "2022-09-11T10:59:13.819134Z",
     "iopub.status.busy": "2022-09-11T10:59:13.818381Z",
     "iopub.status.idle": "2022-09-11T10:59:13.826178Z",
     "shell.execute_reply": "2022-09-11T10:59:13.825191Z"
    },
    "papermill": {
     "duration": 0.046239,
     "end_time": "2022-09-11T10:59:13.828555",
     "exception": false,
     "start_time": "2022-09-11T10:59:13.782316",
     "status": "completed"
    },
    "tags": []
   },
   "outputs": [
    {
     "data": {
      "text/plain": [
       "0.7959485355363426"
      ]
     },
     "execution_count": 63,
     "metadata": {},
     "output_type": "execute_result"
    }
   ],
   "source": [
    "# calculate r2_score for the model\n",
    "rid_score = r2_score(y_test,y_pred_2)\n",
    "rid_score"
   ]
  },
  {
   "cell_type": "code",
   "execution_count": 64,
   "id": "4c5763c5",
   "metadata": {
    "execution": {
     "iopub.execute_input": "2022-09-11T10:59:13.901157Z",
     "iopub.status.busy": "2022-09-11T10:59:13.899435Z",
     "iopub.status.idle": "2022-09-11T10:59:13.908999Z",
     "shell.execute_reply": "2022-09-11T10:59:13.908124Z"
    },
    "papermill": {
     "duration": 0.048373,
     "end_time": "2022-09-11T10:59:13.911219",
     "exception": false,
     "start_time": "2022-09-11T10:59:13.862846",
     "status": "completed"
    },
    "tags": []
   },
   "outputs": [
    {
     "data": {
      "text/plain": [
       "0.7800296269611636"
      ]
     },
     "execution_count": 64,
     "metadata": {},
     "output_type": "execute_result"
    }
   ],
   "source": [
    "# calculate adjust r2_score for the model\n",
    "p = len(x_train[0])\n",
    "n = len(y_train)\n",
    "adj_r2 = 1 - (1-rid_score)*(n-1)/(n-p-1)\n",
    "adj_r2"
   ]
  },
  {
   "cell_type": "code",
   "execution_count": 65,
   "id": "ac7088dc",
   "metadata": {
    "execution": {
     "iopub.execute_input": "2022-09-11T10:59:13.983136Z",
     "iopub.status.busy": "2022-09-11T10:59:13.982399Z",
     "iopub.status.idle": "2022-09-11T10:59:13.989541Z",
     "shell.execute_reply": "2022-09-11T10:59:13.988632Z"
    },
    "papermill": {
     "duration": 0.04589,
     "end_time": "2022-09-11T10:59:13.991791",
     "exception": false,
     "start_time": "2022-09-11T10:59:13.945901",
     "status": "completed"
    },
    "tags": []
   },
   "outputs": [
    {
     "data": {
      "text/plain": [
       "True"
      ]
     },
     "execution_count": 65,
     "metadata": {},
     "output_type": "execute_result"
    }
   ],
   "source": [
    "# check that adjust r2_score is less than r2_score for the model\n",
    "adj_r2 < rid_score"
   ]
  },
  {
   "cell_type": "code",
   "execution_count": 66,
   "id": "02cf9726",
   "metadata": {
    "execution": {
     "iopub.execute_input": "2022-09-11T10:59:14.070770Z",
     "iopub.status.busy": "2022-09-11T10:59:14.070047Z",
     "iopub.status.idle": "2022-09-11T10:59:14.078498Z",
     "shell.execute_reply": "2022-09-11T10:59:14.077424Z"
    },
    "papermill": {
     "duration": 0.053738,
     "end_time": "2022-09-11T10:59:14.080782",
     "exception": false,
     "start_time": "2022-09-11T10:59:14.027044",
     "status": "completed"
    },
    "tags": []
   },
   "outputs": [
    {
     "data": {
      "text/plain": [
       "13806027.585592452"
      ]
     },
     "execution_count": 66,
     "metadata": {},
     "output_type": "execute_result"
    }
   ],
   "source": [
    "# calculate mean_squared_error\n",
    "rid_mse = mean_squared_error(y_test , y_pred_2)\n",
    "rid_mse"
   ]
  },
  {
   "cell_type": "code",
   "execution_count": 67,
   "id": "9bbd9592",
   "metadata": {
    "execution": {
     "iopub.execute_input": "2022-09-11T10:59:14.154892Z",
     "iopub.status.busy": "2022-09-11T10:59:14.154114Z",
     "iopub.status.idle": "2022-09-11T10:59:14.161998Z",
     "shell.execute_reply": "2022-09-11T10:59:14.160868Z"
    },
    "papermill": {
     "duration": 0.048609,
     "end_time": "2022-09-11T10:59:14.164743",
     "exception": false,
     "start_time": "2022-09-11T10:59:14.116134",
     "status": "completed"
    },
    "tags": []
   },
   "outputs": [
    {
     "data": {
      "text/plain": [
       "2489.940690495101"
      ]
     },
     "execution_count": 67,
     "metadata": {},
     "output_type": "execute_result"
    }
   ],
   "source": [
    "# calculate mean_absolute_error\n",
    "rid_mae = mean_absolute_error(y_test , y_pred_2)\n",
    "rid_mae"
   ]
  },
  {
   "cell_type": "code",
   "execution_count": 68,
   "id": "31739fda",
   "metadata": {
    "execution": {
     "iopub.execute_input": "2022-09-11T10:59:14.242590Z",
     "iopub.status.busy": "2022-09-11T10:59:14.241852Z",
     "iopub.status.idle": "2022-09-11T10:59:14.248559Z",
     "shell.execute_reply": "2022-09-11T10:59:14.247814Z"
    },
    "papermill": {
     "duration": 0.046746,
     "end_time": "2022-09-11T10:59:14.250734",
     "exception": false,
     "start_time": "2022-09-11T10:59:14.203988",
     "status": "completed"
    },
    "tags": []
   },
   "outputs": [
    {
     "data": {
      "text/plain": [
       "0.18697605789037744"
      ]
     },
     "execution_count": 68,
     "metadata": {},
     "output_type": "execute_result"
    }
   ],
   "source": [
    "# calculate mean_absolute_percentage_error\n",
    "rid_mape = mean_absolute_percentage_error(y_test , y_pred_2)\n",
    "rid_mape"
   ]
  },
  {
   "cell_type": "code",
   "execution_count": 69,
   "id": "589d85da",
   "metadata": {
    "execution": {
     "iopub.execute_input": "2022-09-11T10:59:14.326259Z",
     "iopub.status.busy": "2022-09-11T10:59:14.325035Z",
     "iopub.status.idle": "2022-09-11T10:59:14.334090Z",
     "shell.execute_reply": "2022-09-11T10:59:14.332705Z"
    },
    "papermill": {
     "duration": 0.050178,
     "end_time": "2022-09-11T10:59:14.336954",
     "exception": false,
     "start_time": "2022-09-11T10:59:14.286776",
     "status": "completed"
    },
    "tags": []
   },
   "outputs": [
    {
     "data": {
      "text/plain": [
       "3708.0703460502727"
      ]
     },
     "execution_count": 69,
     "metadata": {},
     "output_type": "execute_result"
    }
   ],
   "source": [
    "# calculate root_mean_squared_error\n",
    "rid_mse = mean_squared_error(y_test , y_pred_2)\n",
    "rid_rmse = np.sqrt(reg_mse)\n",
    "rid_rmse"
   ]
  },
  {
   "cell_type": "markdown",
   "id": "03ab47e2",
   "metadata": {
    "papermill": {
     "duration": 0.036095,
     "end_time": "2022-09-11T10:59:14.409862",
     "exception": false,
     "start_time": "2022-09-11T10:59:14.373767",
     "status": "completed"
    },
    "tags": []
   },
   "source": [
    "### Lasso Evaluation"
   ]
  },
  {
   "cell_type": "code",
   "execution_count": 70,
   "id": "b0344652",
   "metadata": {
    "execution": {
     "iopub.execute_input": "2022-09-11T10:59:14.485632Z",
     "iopub.status.busy": "2022-09-11T10:59:14.484271Z",
     "iopub.status.idle": "2022-09-11T10:59:14.490768Z",
     "shell.execute_reply": "2022-09-11T10:59:14.489390Z"
    },
    "papermill": {
     "duration": 0.046713,
     "end_time": "2022-09-11T10:59:14.493581",
     "exception": false,
     "start_time": "2022-09-11T10:59:14.446868",
     "status": "completed"
    },
    "tags": []
   },
   "outputs": [],
   "source": [
    "# calculate r2_score for the model\n",
    "lass_score = r2_score(y_test,y_pred_3)"
   ]
  },
  {
   "cell_type": "code",
   "execution_count": 71,
   "id": "2db9ede7",
   "metadata": {
    "execution": {
     "iopub.execute_input": "2022-09-11T10:59:14.567921Z",
     "iopub.status.busy": "2022-09-11T10:59:14.567394Z",
     "iopub.status.idle": "2022-09-11T10:59:14.575968Z",
     "shell.execute_reply": "2022-09-11T10:59:14.574878Z"
    },
    "papermill": {
     "duration": 0.047982,
     "end_time": "2022-09-11T10:59:14.578157",
     "exception": false,
     "start_time": "2022-09-11T10:59:14.530175",
     "status": "completed"
    },
    "tags": []
   },
   "outputs": [
    {
     "data": {
      "text/plain": [
       "0.7808785726906367"
      ]
     },
     "execution_count": 71,
     "metadata": {},
     "output_type": "execute_result"
    }
   ],
   "source": [
    "# calculate adjust r2_score for the model\n",
    "p = len(x_train[0])\n",
    "n = len(y_train)\n",
    "adj_r2 = 1 - (1-lass_score)*(n-1)/(n-p-1)\n",
    "adj_r2"
   ]
  },
  {
   "cell_type": "code",
   "execution_count": 72,
   "id": "e503bcee",
   "metadata": {
    "execution": {
     "iopub.execute_input": "2022-09-11T10:59:14.652029Z",
     "iopub.status.busy": "2022-09-11T10:59:14.651550Z",
     "iopub.status.idle": "2022-09-11T10:59:14.658791Z",
     "shell.execute_reply": "2022-09-11T10:59:14.657223Z"
    },
    "papermill": {
     "duration": 0.047169,
     "end_time": "2022-09-11T10:59:14.660942",
     "exception": false,
     "start_time": "2022-09-11T10:59:14.613773",
     "status": "completed"
    },
    "tags": []
   },
   "outputs": [
    {
     "data": {
      "text/plain": [
       "True"
      ]
     },
     "execution_count": 72,
     "metadata": {},
     "output_type": "execute_result"
    }
   ],
   "source": [
    "# check that adjust r2_score is less than r2_score for the model\n",
    "adj_r2 < lass_score"
   ]
  },
  {
   "cell_type": "code",
   "execution_count": 73,
   "id": "1dd71a1d",
   "metadata": {
    "execution": {
     "iopub.execute_input": "2022-09-11T10:59:14.735060Z",
     "iopub.status.busy": "2022-09-11T10:59:14.734571Z",
     "iopub.status.idle": "2022-09-11T10:59:14.743959Z",
     "shell.execute_reply": "2022-09-11T10:59:14.743132Z"
    },
    "papermill": {
     "duration": 0.050285,
     "end_time": "2022-09-11T10:59:14.746503",
     "exception": false,
     "start_time": "2022-09-11T10:59:14.696218",
     "status": "completed"
    },
    "tags": []
   },
   "outputs": [
    {
     "data": {
      "text/plain": [
       "13752745.100329284"
      ]
     },
     "execution_count": 73,
     "metadata": {},
     "output_type": "execute_result"
    }
   ],
   "source": [
    "# calculate mean_squared_error\n",
    "lass_mse = mean_squared_error(y_test , y_pred_3)\n",
    "lass_mse"
   ]
  },
  {
   "cell_type": "code",
   "execution_count": 74,
   "id": "8428103f",
   "metadata": {
    "execution": {
     "iopub.execute_input": "2022-09-11T10:59:14.821704Z",
     "iopub.status.busy": "2022-09-11T10:59:14.821317Z",
     "iopub.status.idle": "2022-09-11T10:59:14.827496Z",
     "shell.execute_reply": "2022-09-11T10:59:14.826595Z"
    },
    "papermill": {
     "duration": 0.046754,
     "end_time": "2022-09-11T10:59:14.829822",
     "exception": false,
     "start_time": "2022-09-11T10:59:14.783068",
     "status": "completed"
    },
    "tags": []
   },
   "outputs": [
    {
     "data": {
      "text/plain": [
       "2485.105712429467"
      ]
     },
     "execution_count": 74,
     "metadata": {},
     "output_type": "execute_result"
    }
   ],
   "source": [
    "# calculate mean_absolute_error\n",
    "lass_mae = mean_absolute_error(y_test , y_pred_3)\n",
    "lass_mae"
   ]
  },
  {
   "cell_type": "code",
   "execution_count": 75,
   "id": "8745c6ff",
   "metadata": {
    "execution": {
     "iopub.execute_input": "2022-09-11T10:59:14.906175Z",
     "iopub.status.busy": "2022-09-11T10:59:14.905589Z",
     "iopub.status.idle": "2022-09-11T10:59:14.911577Z",
     "shell.execute_reply": "2022-09-11T10:59:14.910795Z"
    },
    "papermill": {
     "duration": 0.047047,
     "end_time": "2022-09-11T10:59:14.913917",
     "exception": false,
     "start_time": "2022-09-11T10:59:14.866870",
     "status": "completed"
    },
    "tags": []
   },
   "outputs": [
    {
     "data": {
      "text/plain": [
       "0.18680309797634667"
      ]
     },
     "execution_count": 75,
     "metadata": {},
     "output_type": "execute_result"
    }
   ],
   "source": [
    "# calculate mean_absolute_percentage_error\n",
    "lass_mape = mean_absolute_percentage_error(y_test , y_pred_3)\n",
    "lass_mape"
   ]
  },
  {
   "cell_type": "code",
   "execution_count": 76,
   "id": "92ea1ea3",
   "metadata": {
    "execution": {
     "iopub.execute_input": "2022-09-11T10:59:15.178518Z",
     "iopub.status.busy": "2022-09-11T10:59:15.177629Z",
     "iopub.status.idle": "2022-09-11T10:59:15.185132Z",
     "shell.execute_reply": "2022-09-11T10:59:15.184046Z"
    },
    "papermill": {
     "duration": 0.23654,
     "end_time": "2022-09-11T10:59:15.187678",
     "exception": false,
     "start_time": "2022-09-11T10:59:14.951138",
     "status": "completed"
    },
    "tags": []
   },
   "outputs": [
    {
     "data": {
      "text/plain": [
       "3708.0703460502727"
      ]
     },
     "execution_count": 76,
     "metadata": {},
     "output_type": "execute_result"
    }
   ],
   "source": [
    "# calculate root_mean_squared_error\n",
    "lass_mse = mean_squared_error(y_test , y_pred_3)\n",
    "lass_rmse = np.sqrt(reg_mse)\n",
    "lass_rmse"
   ]
  },
  {
   "cell_type": "markdown",
   "id": "7db0343d",
   "metadata": {
    "papermill": {
     "duration": 0.037099,
     "end_time": "2022-09-11T10:59:15.262760",
     "exception": false,
     "start_time": "2022-09-11T10:59:15.225661",
     "status": "completed"
    },
    "tags": []
   },
   "source": [
    "# Comapring The Three Models"
   ]
  },
  {
   "cell_type": "code",
   "execution_count": 77,
   "id": "cbdd3830",
   "metadata": {
    "execution": {
     "iopub.execute_input": "2022-09-11T10:59:15.338946Z",
     "iopub.status.busy": "2022-09-11T10:59:15.338527Z",
     "iopub.status.idle": "2022-09-11T10:59:15.572202Z",
     "shell.execute_reply": "2022-09-11T10:59:15.570893Z"
    },
    "papermill": {
     "duration": 0.275116,
     "end_time": "2022-09-11T10:59:15.574735",
     "exception": false,
     "start_time": "2022-09-11T10:59:15.299619",
     "status": "completed"
    },
    "tags": []
   },
   "outputs": [
    {
     "data": {
      "text/html": [
       "<div>\n",
       "<style scoped>\n",
       "    .dataframe tbody tr th:only-of-type {\n",
       "        vertical-align: middle;\n",
       "    }\n",
       "\n",
       "    .dataframe tbody tr th {\n",
       "        vertical-align: top;\n",
       "    }\n",
       "\n",
       "    .dataframe thead th {\n",
       "        text-align: right;\n",
       "    }\n",
       "</style>\n",
       "<table border=\"1\" class=\"dataframe\">\n",
       "  <thead>\n",
       "    <tr style=\"text-align: right;\">\n",
       "      <th></th>\n",
       "      <th>r2_score</th>\n",
       "      <th>RMSE</th>\n",
       "    </tr>\n",
       "  </thead>\n",
       "  <tbody>\n",
       "    <tr>\n",
       "      <th>Linear</th>\n",
       "      <td>0.796780</td>\n",
       "      <td>1.374979e+07</td>\n",
       "    </tr>\n",
       "    <tr>\n",
       "      <th>Lasso</th>\n",
       "      <td>0.796736</td>\n",
       "      <td>1.375275e+07</td>\n",
       "    </tr>\n",
       "    <tr>\n",
       "      <th>Ridge</th>\n",
       "      <td>0.795949</td>\n",
       "      <td>1.380603e+07</td>\n",
       "    </tr>\n",
       "  </tbody>\n",
       "</table>\n",
       "</div>"
      ],
      "text/plain": [
       "        r2_score          RMSE\n",
       "Linear  0.796780  1.374979e+07\n",
       "Lasso   0.796736  1.375275e+07\n",
       "Ridge   0.795949  1.380603e+07"
      ]
     },
     "execution_count": 77,
     "metadata": {},
     "output_type": "execute_result"
    }
   ],
   "source": [
    "models = [\"Linear\",\"Ridge\",\"Lasso\"]\n",
    "data = [[reg_score,reg_mse],[rid_score,rid_mse],[lass_score,lass_mse]]\n",
    "cols = ['r2_score','RMSE']\n",
    "pd.DataFrame(data = data , columns=cols , index = models).sort_values(ascending=False , by=[\"r2_score\"])"
   ]
  }
 ],
 "metadata": {
  "kernelspec": {
   "display_name": "Python 3",
   "language": "python",
   "name": "python3"
  },
  "language_info": {
   "codemirror_mode": {
    "name": "ipython",
    "version": 3
   },
   "file_extension": ".py",
   "mimetype": "text/x-python",
   "name": "python",
   "nbconvert_exporter": "python",
   "pygments_lexer": "ipython3",
   "version": "3.7.12"
  },
  "papermill": {
   "default_parameters": {},
   "duration": 27.932933,
   "end_time": "2022-09-11T10:59:16.637175",
   "environment_variables": {},
   "exception": null,
   "input_path": "__notebook__.ipynb",
   "output_path": "__notebook__.ipynb",
   "parameters": {},
   "start_time": "2022-09-11T10:58:48.704242",
   "version": "2.3.4"
  }
 },
 "nbformat": 4,
 "nbformat_minor": 5
}
